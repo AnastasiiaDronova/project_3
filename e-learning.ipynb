{
 "cells": [
  {
   "cell_type": "markdown",
   "metadata": {},
   "source": [
    "# Проект e-learning\n",
    "\n",
    "### Задачи: \n",
    "\n",
    "1. Сколько студентов успешно сдали только один курс? (Успешная сдача — это зачёт по курсу на экзамене).\n",
    "\n",
    "2. Выяви самый сложный и самый простой экзамен: найди курсы и экзамены в рамках курса, которые обладают самой низкой и самой высокой завершаемостью. \n",
    "\n",
    "3. По каждому предмету определи средний срок сдачи экзаменов (под сдачей понимаем последнее успешное прохождение экзамена студентом). \n",
    "\n",
    "4. Выяви самые популярные предметы (ТОП-3) по количеству регистраций на них. А также предметы с самым большим оттоком (ТОП-3). \n",
    "\n",
    "5. Используя pandas, в период с начала 2013 по конец 2014 выяви семестр с самой низкой завершаемостью курсов и самыми долгими средними сроками сдачи курсов.  \n",
    "\n",
    "6. Часто для качественного анализа аудитории используют подходы, основанные на сегментации. Используя python, построй адаптированные RFM-кластеры студентов, чтобы качественно оценить свою аудиторию. В адаптированной кластеризации можешь выбрать следующие метрики: R - среднее время сдачи одного экзамена, F - завершаемость курсов, M - среднее количество баллов, получаемое за экзамен. "
   ]
  },
  {
   "cell_type": "markdown",
   "metadata": {},
   "source": [
    "### Описсание данных:\n",
    "\n",
    "assessments.csv — этот файл содержит информацию об оценках в тесте. Обычно каждый предмет в семестре включает ряд тестов с оценками, за которыми следует заключительный экзаменационный тест (экзамен).\n",
    "* code_module — идентификационный код предмета.\n",
    "\n",
    "* code_presentation — семестр (Идентификационный код).\n",
    "\n",
    "* id_assessment — тест (Идентификационный номер ассессмента).\n",
    "\n",
    "* assessment_type — тип теста. Существуют три типа оценивания: оценка преподавателя (TMA), компьютерная оценка (СМА), экзамен по курсу (Exam).\n",
    "\n",
    "* date — информация об окончательной дате сдачи теста. Рассчитывается как количество дней с момента начала семестра. Дата начала семестра имеет номер 0 (ноль).\n",
    "\n",
    "* weight — вес теста в % в оценке за курс. Обычно экзамены рассматриваются отдельно и имеют вес 100%; сумма всех остальных оценок составляет 100%.\n",
    "\n",
    "courses.csv — файл содержит список предметов по семестрам.\n",
    "* code_module — предмет (идентификационный код).\n",
    "\n",
    "* code_presentation — семестр (идентификационный код).\n",
    "\n",
    "* module_presentation_length — продолжительность семестра в днях.\n",
    "\n",
    "studentAssessment.csv — этот файл содержит результаты тестов студентов. Если учащийся не отправляет работу на оценку, результат не записывается в таблицу.\n",
    "* id_assessment — тест (идентификационный номер).\n",
    "\n",
    "* id_student — идентификационный номер студента.\n",
    "\n",
    "* date_submitted — дата сдачи теста студентом, измеряемая как количество дней с начала семестра.\n",
    "\n",
    "* is_banked — факт перезачета теста с прошлого семестра (иногда курсы перезачитывают студентам, вернувшимся из академического отпуска).\n",
    "\n",
    "* score — оценка учащегося в этом тесте. Диапазон составляет от 0 до 100. Оценка ниже 40 неудачная/неуспешная сдача теста.\n",
    "\n",
    "studentRegistration.csv — этот файл содержит информацию о времени, когда студент зарегистрировался для прохождения курса в семестре.\n",
    "* code_module — предмет (идентификационный код).\n",
    "\n",
    "* code_presentation — семестр (идентификационный код)\n",
    "\n",
    "* id_student — идентификационный номер студента.\n",
    "\n",
    "* date_registration — дата регистрации студента. Это количество дней, измеренное от начала семестра (например, отрицательное значение -30 означает, что студент зарегистрировался на прохождение курса за 30 дней до его начала).\n",
    "\n",
    "* date_unregistration — дата отмены регистрации студента с предмета. У студентов, окончивших курс, это поле остается пустым."
   ]
  },
  {
   "cell_type": "markdown",
   "metadata": {},
   "source": [
    "### Этапы работы:\n",
    "1. Загрузка и предобработка данных\n",
    "2. Подсчет студентов, которые успешно сдали только один курс\n",
    "3. Выявление самого сложного и самого простого экзамена\n",
    "4. Определение среднего срока сдачи экзаменов по каждому предмету\n",
    "5. Определение топ-3 предмета по популярности предмета и топ-3 предмета с самым большим оттоком\n",
    "6. Выявление семестра с самлй низкой завершаемостью курсов и самыми большими средними срокамисдачи курсов в период с 2013 по 2014 года\n",
    "7. Проведение RFM-анализа\n",
    "8. Вывод\n"
   ]
  },
  {
   "cell_type": "markdown",
   "metadata": {},
   "source": [
    "<hr>"
   ]
  },
  {
   "cell_type": "code",
   "execution_count": 1,
   "metadata": {},
   "outputs": [],
   "source": [
    "import pandas as pd\n",
    "import numpy as np\n",
    "import seaborn as sns\n",
    "import matplotlib.pyplot as plt\n",
    "import scipy\n",
    "from scipy import stats\n",
    "import scipy.stats as st\n",
    "from datetime import timedelta\n"
   ]
  },
  {
   "cell_type": "markdown",
   "metadata": {},
   "source": [
    "### 1.1 Загрузим и посмотрим информацию по курсам."
   ]
  },
  {
   "cell_type": "code",
   "execution_count": 2,
   "metadata": {},
   "outputs": [
    {
     "data": {
      "text/plain": [
       "'Количество строк и столбцов: (22, 3)'"
      ]
     },
     "metadata": {},
     "output_type": "display_data"
    }
   ],
   "source": [
    "courses = pd.read_csv('courses.csv')\n",
    "display(f\"Количество строк и столбцов: {courses.shape}\")"
   ]
  },
  {
   "cell_type": "code",
   "execution_count": 3,
   "metadata": {
    "scrolled": true
   },
   "outputs": [
    {
     "name": "stdout",
     "output_type": "stream",
     "text": [
      "<class 'pandas.core.frame.DataFrame'>\n",
      "RangeIndex: 22 entries, 0 to 21\n",
      "Data columns (total 3 columns):\n",
      " #   Column                      Non-Null Count  Dtype \n",
      "---  ------                      --------------  ----- \n",
      " 0   code_module                 22 non-null     object\n",
      " 1   code_presentation           22 non-null     object\n",
      " 2   module_presentation_length  22 non-null     int64 \n",
      "dtypes: int64(1), object(2)\n",
      "memory usage: 660.0+ bytes\n"
     ]
    }
   ],
   "source": [
    "courses.info()\n"
   ]
  },
  {
   "cell_type": "code",
   "execution_count": 4,
   "metadata": {},
   "outputs": [
    {
     "data": {
      "text/plain": [
       "\"Уникальные коды предметов: ['AAA' 'BBB' 'CCC' 'DDD' 'EEE' 'FFF' 'GGG']\""
      ]
     },
     "metadata": {},
     "output_type": "display_data"
    },
    {
     "data": {
      "text/plain": [
       "\"Уникальные коды семестров: ['2013J' '2014J' '2013B' '2014B']\""
      ]
     },
     "metadata": {},
     "output_type": "display_data"
    },
    {
     "data": {
      "text/plain": [
       "'Длительность модуля составляет от 234 до 269 дней'"
      ]
     },
     "metadata": {},
     "output_type": "display_data"
    }
   ],
   "source": [
    "display(f\"Уникальные коды предметов: {courses.code_module.unique()}\")\n",
    "display(f\"Уникальные коды семестров: {courses.code_presentation.unique()}\")\n",
    "display(f'Длительность модуля составляет от {courses.module_presentation_length.min()} до {courses.module_presentation_length.max()} дней')"
   ]
  },
  {
   "cell_type": "markdown",
   "metadata": {},
   "source": [
    "По полученной информации видим, что есть 7 уникальных кодов предметов, а также 4 кода по семестрам.  \n",
    "Длительность модуля составляет от 234 до 269 дней."
   ]
  },
  {
   "cell_type": "markdown",
   "metadata": {},
   "source": [
    "<hr>"
   ]
  },
  {
   "cell_type": "markdown",
   "metadata": {},
   "source": [
    "### 1.2 Загрузим и посмотрим информацию по тестам"
   ]
  },
  {
   "cell_type": "code",
   "execution_count": 5,
   "metadata": {},
   "outputs": [
    {
     "data": {
      "text/plain": [
       "'Количество строк и столбцов: (206, 6)'"
      ]
     },
     "metadata": {},
     "output_type": "display_data"
    }
   ],
   "source": [
    "assessment = pd.read_csv('assessments.csv')\n",
    "display(f\"Количество строк и столбцов: {assessment.shape}\")"
   ]
  },
  {
   "cell_type": "code",
   "execution_count": 6,
   "metadata": {},
   "outputs": [
    {
     "name": "stdout",
     "output_type": "stream",
     "text": [
      "<class 'pandas.core.frame.DataFrame'>\n",
      "RangeIndex: 206 entries, 0 to 205\n",
      "Data columns (total 6 columns):\n",
      " #   Column             Non-Null Count  Dtype  \n",
      "---  ------             --------------  -----  \n",
      " 0   code_module        206 non-null    object \n",
      " 1   code_presentation  206 non-null    object \n",
      " 2   id_assessment      206 non-null    int64  \n",
      " 3   assessment_type    206 non-null    object \n",
      " 4   date               195 non-null    float64\n",
      " 5   weight             206 non-null    float64\n",
      "dtypes: float64(2), int64(1), object(3)\n",
      "memory usage: 9.8+ KB\n"
     ]
    },
    {
     "data": {
      "text/plain": [
       "None"
      ]
     },
     "metadata": {},
     "output_type": "display_data"
    },
    {
     "data": {
      "text/plain": [
       "\"Уникальные коды предметов: ['AAA' 'BBB' 'CCC' 'DDD' 'EEE' 'FFF' 'GGG']\""
      ]
     },
     "metadata": {},
     "output_type": "display_data"
    },
    {
     "data": {
      "text/plain": [
       "\"Уникальные коды семестров: ['2013J' '2014J' '2013B' '2014B']\""
      ]
     },
     "metadata": {},
     "output_type": "display_data"
    },
    {
     "data": {
      "text/plain": [
       "'Количество уникальных тестов и экзаменов: 206'"
      ]
     },
     "metadata": {},
     "output_type": "display_data"
    },
    {
     "data": {
      "text/plain": [
       "\"Уникальные типы оценивания: ['TMA' 'Exam' 'CMA']\""
      ]
     },
     "metadata": {},
     "output_type": "display_data"
    }
   ],
   "source": [
    "display(assessment.info())\n",
    "display(f\"Уникальные коды предметов: {assessment.code_module.unique()}\")\n",
    "display(f\"Уникальные коды семестров: {assessment.code_presentation.unique()}\")\n",
    "display(f\"Количество уникальных тестов и экзаменов: {assessment.id_assessment.nunique()}\")\n",
    "display(f\"Уникальные типы оценивания: {assessment.assessment_type.unique()}\")"
   ]
  },
  {
   "cell_type": "markdown",
   "metadata": {},
   "source": [
    "По полученной информации видим, что в столбце date есть пропущенные значаения.  \n",
    "Уникальные коды предметов и семестров совпадают с данными таблицы courses.  \n",
    "Количество уникальных тестов и экзаменов: 206  \n",
    "Существуют три типа оценивания: оценка преподавателя (TMA), компьютерная оценка (СМА), экзамен по курсу (Exam)  "
   ]
  },
  {
   "cell_type": "code",
   "execution_count": 7,
   "metadata": {},
   "outputs": [
    {
     "name": "stderr",
     "output_type": "stream",
     "text": [
      "C:\\Users\\Настя\\AppData\\Local\\Temp\\ipykernel_21960\\1229664248.py:3: FutureWarning: \n",
      "\n",
      "Passing `palette` without assigning `hue` is deprecated and will be removed in v0.14.0. Assign the `x` variable to `hue` and set `legend=False` for the same effect.\n",
      "\n",
      "  sns.countplot(data=assessment, x=\"assessment_type\", palette=\"viridis\")\n"
     ]
    },
    {
     "data": {
      "image/png": "[encoded data removed]",
      "text/plain": [
       "<Figure size 1000x600 with 1 Axes>"
      ]
     },
     "metadata": {},
     "output_type": "display_data"
    }
   ],
   "source": [
    "# Строим график\n",
    "plt.figure(figsize=(10, 6))\n",
    "sns.countplot(data=assessment, x=\"assessment_type\", palette=\"viridis\")\n",
    "plt.title('Количество оценок по типам')\n",
    "plt.xlabel('Тип оценки')\n",
    "plt.ylabel('Количество оценок')\n",
    "plt.xticks(rotation=45)\n",
    "plt.show()\n"
   ]
  },
  {
   "cell_type": "markdown",
   "metadata": {},
   "source": [
    "На данном графике видим, что незаполненые поля в столбце date находятся только у типа Exam"
   ]
  },
  {
   "cell_type": "code",
   "execution_count": 8,
   "metadata": {},
   "outputs": [
    {
     "name": "stdout",
     "output_type": "stream",
     "text": [
      "Пропущенные значения в assessment:\n",
      " code_module           0\n",
      "code_presentation     0\n",
      "id_assessment         0\n",
      "assessment_type       0\n",
      "date                 11\n",
      "weight                0\n",
      "dtype: int64\n"
     ]
    }
   ],
   "source": [
    "missing_values = assessment.isnull().sum()\n",
    "print(\"Пропущенные значения в assessment:\\n\", missing_values)"
   ]
  },
  {
   "cell_type": "markdown",
   "metadata": {},
   "source": [
    "<hr>"
   ]
  },
  {
   "cell_type": "markdown",
   "metadata": {},
   "source": [
    "### 1.3 Создадим таблицу exams, где будут данные только об экзаменах, так как завершение курса подразумевает сдачу экзамена на 40 баллов."
   ]
  },
  {
   "cell_type": "code",
   "execution_count": 9,
   "metadata": {},
   "outputs": [
    {
     "data": {
      "text/plain": [
       "'Количество строк и столбцов в exams: (24, 6)'"
      ]
     },
     "metadata": {},
     "output_type": "display_data"
    },
    {
     "data": {
      "text/html": [
       "<div>\n",
       "<style scoped>\n",
       "    .dataframe tbody tr th:only-of-type {\n",
       "        vertical-align: middle;\n",
       "    }\n",
       "\n",
       "    .dataframe tbody tr th {\n",
       "        vertical-align: top;\n",
       "    }\n",
       "\n",
       "    .dataframe thead th {\n",
       "        text-align: right;\n",
       "    }\n",
       "</style>\n",
       "<table border=\"1\" class=\"dataframe\">\n",
       "  <thead>\n",
       "    <tr style=\"text-align: right;\">\n",
       "      <th></th>\n",
       "      <th>code_module</th>\n",
       "      <th>code_presentation</th>\n",
       "      <th>id_assessment</th>\n",
       "      <th>assessment_type</th>\n",
       "      <th>date</th>\n",
       "      <th>weight</th>\n",
       "    </tr>\n",
       "  </thead>\n",
       "  <tbody>\n",
       "    <tr>\n",
       "      <th>5</th>\n",
       "      <td>AAA</td>\n",
       "      <td>2013J</td>\n",
       "      <td>1757</td>\n",
       "      <td>Exam</td>\n",
       "      <td>NaN</td>\n",
       "      <td>100.0</td>\n",
       "    </tr>\n",
       "    <tr>\n",
       "      <th>11</th>\n",
       "      <td>AAA</td>\n",
       "      <td>2014J</td>\n",
       "      <td>1763</td>\n",
       "      <td>Exam</td>\n",
       "      <td>NaN</td>\n",
       "      <td>100.0</td>\n",
       "    </tr>\n",
       "    <tr>\n",
       "      <th>23</th>\n",
       "      <td>BBB</td>\n",
       "      <td>2013B</td>\n",
       "      <td>14990</td>\n",
       "      <td>Exam</td>\n",
       "      <td>NaN</td>\n",
       "      <td>100.0</td>\n",
       "    </tr>\n",
       "    <tr>\n",
       "      <th>35</th>\n",
       "      <td>BBB</td>\n",
       "      <td>2013J</td>\n",
       "      <td>15002</td>\n",
       "      <td>Exam</td>\n",
       "      <td>NaN</td>\n",
       "      <td>100.0</td>\n",
       "    </tr>\n",
       "    <tr>\n",
       "      <th>47</th>\n",
       "      <td>BBB</td>\n",
       "      <td>2014B</td>\n",
       "      <td>15014</td>\n",
       "      <td>Exam</td>\n",
       "      <td>NaN</td>\n",
       "      <td>100.0</td>\n",
       "    </tr>\n",
       "  </tbody>\n",
       "</table>\n",
       "</div>"
      ],
      "text/plain": [
       "   code_module code_presentation  id_assessment assessment_type  date  weight\n",
       "5          AAA             2013J           1757            Exam   NaN   100.0\n",
       "11         AAA             2014J           1763            Exam   NaN   100.0\n",
       "23         BBB             2013B          14990            Exam   NaN   100.0\n",
       "35         BBB             2013J          15002            Exam   NaN   100.0\n",
       "47         BBB             2014B          15014            Exam   NaN   100.0"
      ]
     },
     "metadata": {},
     "output_type": "display_data"
    }
   ],
   "source": [
    "# Создаем таблицу exams, отбирая только записи с типом 'Exam'\n",
    "exams = assessment[assessment['assessment_type'] == 'Exam']\n",
    "\n",
    "display(f\"Количество строк и столбцов в exams: {exams.shape}\")\n",
    "\n",
    "display(exams.head())"
   ]
  },
  {
   "cell_type": "code",
   "execution_count": 10,
   "metadata": {},
   "outputs": [
    {
     "data": {
      "text/plain": [
       "'Количество пропущенных значений в столбце date: 11'"
      ]
     },
     "metadata": {},
     "output_type": "display_data"
    },
    {
     "data": {
      "text/plain": [
       "'Строки с пропущенными значениями в столбце date:\\n'"
      ]
     },
     "metadata": {},
     "output_type": "display_data"
    },
    {
     "data": {
      "text/html": [
       "<div>\n",
       "<style scoped>\n",
       "    .dataframe tbody tr th:only-of-type {\n",
       "        vertical-align: middle;\n",
       "    }\n",
       "\n",
       "    .dataframe tbody tr th {\n",
       "        vertical-align: top;\n",
       "    }\n",
       "\n",
       "    .dataframe thead th {\n",
       "        text-align: right;\n",
       "    }\n",
       "</style>\n",
       "<table border=\"1\" class=\"dataframe\">\n",
       "  <thead>\n",
       "    <tr style=\"text-align: right;\">\n",
       "      <th></th>\n",
       "      <th>code_module</th>\n",
       "      <th>code_presentation</th>\n",
       "      <th>id_assessment</th>\n",
       "      <th>assessment_type</th>\n",
       "      <th>date</th>\n",
       "      <th>weight</th>\n",
       "    </tr>\n",
       "  </thead>\n",
       "  <tbody>\n",
       "    <tr>\n",
       "      <th>5</th>\n",
       "      <td>AAA</td>\n",
       "      <td>2013J</td>\n",
       "      <td>1757</td>\n",
       "      <td>Exam</td>\n",
       "      <td>NaN</td>\n",
       "      <td>100.0</td>\n",
       "    </tr>\n",
       "    <tr>\n",
       "      <th>11</th>\n",
       "      <td>AAA</td>\n",
       "      <td>2014J</td>\n",
       "      <td>1763</td>\n",
       "      <td>Exam</td>\n",
       "      <td>NaN</td>\n",
       "      <td>100.0</td>\n",
       "    </tr>\n",
       "    <tr>\n",
       "      <th>23</th>\n",
       "      <td>BBB</td>\n",
       "      <td>2013B</td>\n",
       "      <td>14990</td>\n",
       "      <td>Exam</td>\n",
       "      <td>NaN</td>\n",
       "      <td>100.0</td>\n",
       "    </tr>\n",
       "    <tr>\n",
       "      <th>35</th>\n",
       "      <td>BBB</td>\n",
       "      <td>2013J</td>\n",
       "      <td>15002</td>\n",
       "      <td>Exam</td>\n",
       "      <td>NaN</td>\n",
       "      <td>100.0</td>\n",
       "    </tr>\n",
       "    <tr>\n",
       "      <th>47</th>\n",
       "      <td>BBB</td>\n",
       "      <td>2014B</td>\n",
       "      <td>15014</td>\n",
       "      <td>Exam</td>\n",
       "      <td>NaN</td>\n",
       "      <td>100.0</td>\n",
       "    </tr>\n",
       "    <tr>\n",
       "      <th>53</th>\n",
       "      <td>BBB</td>\n",
       "      <td>2014J</td>\n",
       "      <td>15025</td>\n",
       "      <td>Exam</td>\n",
       "      <td>NaN</td>\n",
       "      <td>100.0</td>\n",
       "    </tr>\n",
       "    <tr>\n",
       "      <th>62</th>\n",
       "      <td>CCC</td>\n",
       "      <td>2014B</td>\n",
       "      <td>24290</td>\n",
       "      <td>Exam</td>\n",
       "      <td>NaN</td>\n",
       "      <td>100.0</td>\n",
       "    </tr>\n",
       "    <tr>\n",
       "      <th>63</th>\n",
       "      <td>CCC</td>\n",
       "      <td>2014B</td>\n",
       "      <td>40087</td>\n",
       "      <td>Exam</td>\n",
       "      <td>NaN</td>\n",
       "      <td>100.0</td>\n",
       "    </tr>\n",
       "    <tr>\n",
       "      <th>72</th>\n",
       "      <td>CCC</td>\n",
       "      <td>2014J</td>\n",
       "      <td>24299</td>\n",
       "      <td>Exam</td>\n",
       "      <td>NaN</td>\n",
       "      <td>100.0</td>\n",
       "    </tr>\n",
       "    <tr>\n",
       "      <th>73</th>\n",
       "      <td>CCC</td>\n",
       "      <td>2014J</td>\n",
       "      <td>40088</td>\n",
       "      <td>Exam</td>\n",
       "      <td>NaN</td>\n",
       "      <td>100.0</td>\n",
       "    </tr>\n",
       "    <tr>\n",
       "      <th>108</th>\n",
       "      <td>DDD</td>\n",
       "      <td>2014J</td>\n",
       "      <td>25368</td>\n",
       "      <td>Exam</td>\n",
       "      <td>NaN</td>\n",
       "      <td>100.0</td>\n",
       "    </tr>\n",
       "  </tbody>\n",
       "</table>\n",
       "</div>"
      ],
      "text/plain": [
       "    code_module code_presentation  id_assessment assessment_type  date  weight\n",
       "5           AAA             2013J           1757            Exam   NaN   100.0\n",
       "11          AAA             2014J           1763            Exam   NaN   100.0\n",
       "23          BBB             2013B          14990            Exam   NaN   100.0\n",
       "35          BBB             2013J          15002            Exam   NaN   100.0\n",
       "47          BBB             2014B          15014            Exam   NaN   100.0\n",
       "53          BBB             2014J          15025            Exam   NaN   100.0\n",
       "62          CCC             2014B          24290            Exam   NaN   100.0\n",
       "63          CCC             2014B          40087            Exam   NaN   100.0\n",
       "72          CCC             2014J          24299            Exam   NaN   100.0\n",
       "73          CCC             2014J          40088            Exam   NaN   100.0\n",
       "108         DDD             2014J          25368            Exam   NaN   100.0"
      ]
     },
     "metadata": {},
     "output_type": "display_data"
    }
   ],
   "source": [
    "# Проверяем на пропуски в столбце date таблице exams\n",
    "missing_dates = exams['date'].isnull().sum()\n",
    "display(f\"Количество пропущенных значений в столбце date: {missing_dates}\")\n",
    "display(\"Строки с пропущенными значениями в столбце date:\\n\", exams[exams['date'].isnull()])\n"
   ]
  },
  {
   "cell_type": "markdown",
   "metadata": {},
   "source": [
    "Проанализируем все экзамены и сравним дату экзамена из таблицы assessment с длительностью модуля из таблицы courses. Очевидно, что экзамен должен проводиться после завершения всех тестов и не позже даты окончания курса. После фильтрации данных мы можем подтвердить, что нет экзаменов, даты которых превышают продолжительность модуля. Чтобы избежать наличия пустых значений, заполним NaN значениями продолжительности курса и будем использовать таблицу tests как основную."
   ]
  },
  {
   "cell_type": "code",
   "execution_count": 11,
   "metadata": {},
   "outputs": [
    {
     "data": {
      "text/plain": [
       "code_module                   0\n",
       "code_presentation             0\n",
       "id_assessment                 0\n",
       "assessment_type               0\n",
       "date                          0\n",
       "weight                        0\n",
       "module_presentation_length    0\n",
       "dtype: int64"
      ]
     },
     "metadata": {},
     "output_type": "display_data"
    },
    {
     "data": {
      "text/plain": [
       "(206, 7)"
      ]
     },
     "metadata": {},
     "output_type": "display_data"
    }
   ],
   "source": [
    "# Фильтруем экзамены и объединяем с данными о курсах\n",
    "exam_data = assessment.query('assessment_type==\"Exam\"')\\\n",
    "                .merge(courses, how='left', on=['code_module', 'code_presentation'])\\\n",
    "                [['id_assessment', 'date', 'module_presentation_length']]\n",
    "\n",
    "# Объединяем таблицы assessment и courses\n",
    "tests = assessment.merge(courses, how='left', on=['code_module', 'code_presentation'])\n",
    "# Заполняем пустые значения датами окончания модуля\n",
    "tests['date'] = tests['date'].fillna(tests['module_presentation_length'])\n",
    "# Проверяем на наличие пустых значений и выводим размеры таблицы\n",
    "display(tests.isna().sum())      \n",
    "display(tests.shape)              \n"
   ]
  },
  {
   "cell_type": "markdown",
   "metadata": {},
   "source": [
    "Поскольку завершение курса определяется как сдача экзамена с результатом не менее 40 баллов, для удобства дальнейших расчетов создадим таблицу exams, в которой будут содержаться только данные об экзаменах."
   ]
  },
  {
   "cell_type": "code",
   "execution_count": 12,
   "metadata": {},
   "outputs": [
    {
     "data": {
      "text/plain": [
       "'Количество строк и столбцов в exams: (24, 7)'"
      ]
     },
     "metadata": {},
     "output_type": "display_data"
    },
    {
     "data": {
      "text/html": [
       "<div>\n",
       "<style scoped>\n",
       "    .dataframe tbody tr th:only-of-type {\n",
       "        vertical-align: middle;\n",
       "    }\n",
       "\n",
       "    .dataframe tbody tr th {\n",
       "        vertical-align: top;\n",
       "    }\n",
       "\n",
       "    .dataframe thead th {\n",
       "        text-align: right;\n",
       "    }\n",
       "</style>\n",
       "<table border=\"1\" class=\"dataframe\">\n",
       "  <thead>\n",
       "    <tr style=\"text-align: right;\">\n",
       "      <th></th>\n",
       "      <th>code_module</th>\n",
       "      <th>code_presentation</th>\n",
       "      <th>id_assessment</th>\n",
       "      <th>assessment_type</th>\n",
       "      <th>date</th>\n",
       "      <th>weight</th>\n",
       "      <th>module_presentation_length</th>\n",
       "    </tr>\n",
       "  </thead>\n",
       "  <tbody>\n",
       "    <tr>\n",
       "      <th>5</th>\n",
       "      <td>AAA</td>\n",
       "      <td>2013J</td>\n",
       "      <td>1757</td>\n",
       "      <td>Exam</td>\n",
       "      <td>268.0</td>\n",
       "      <td>100.0</td>\n",
       "      <td>268</td>\n",
       "    </tr>\n",
       "  </tbody>\n",
       "</table>\n",
       "</div>"
      ],
      "text/plain": [
       "  code_module code_presentation  id_assessment assessment_type   date  weight  \\\n",
       "5         AAA             2013J           1757            Exam  268.0   100.0   \n",
       "\n",
       "   module_presentation_length  \n",
       "5                         268  "
      ]
     },
     "execution_count": 12,
     "metadata": {},
     "output_type": "execute_result"
    }
   ],
   "source": [
    "# Отбираем записи из DataFrame tests, где тип оценки равен 'Exam', и сохраняем их в DataFrame exams\n",
    "exams = tests.query('assessment_type == \"Exam\"')\n",
    "display(f\"Количество строк и столбцов в exams: {exams.shape}\")\n",
    "exams.head(1)\n"
   ]
  },
  {
   "cell_type": "markdown",
   "metadata": {},
   "source": [
    "<hr>"
   ]
  },
  {
   "cell_type": "markdown",
   "metadata": {},
   "source": [
    "### 1.4 Загрузим и посмотрим данные по результатам тестов студентов"
   ]
  },
  {
   "cell_type": "code",
   "execution_count": 13,
   "metadata": {},
   "outputs": [
    {
     "data": {
      "text/plain": [
       "'Количество строк и столбцов: (173912, 5)'"
      ]
     },
     "metadata": {},
     "output_type": "display_data"
    }
   ],
   "source": [
    "students = pd.read_csv('studentAssessment.csv')\n",
    "display(f\"Количество строк и столбцов: {students.shape}\")\n"
   ]
  },
  {
   "cell_type": "code",
   "execution_count": 14,
   "metadata": {},
   "outputs": [
    {
     "name": "stdout",
     "output_type": "stream",
     "text": [
      "<class 'pandas.core.frame.DataFrame'>\n",
      "RangeIndex: 173912 entries, 0 to 173911\n",
      "Data columns (total 5 columns):\n",
      " #   Column          Non-Null Count   Dtype  \n",
      "---  ------          --------------   -----  \n",
      " 0   id_assessment   173912 non-null  int64  \n",
      " 1   id_student      173912 non-null  int64  \n",
      " 2   date_submitted  173912 non-null  int64  \n",
      " 3   is_banked       173912 non-null  int64  \n",
      " 4   score           173739 non-null  float64\n",
      "dtypes: float64(1), int64(4)\n",
      "memory usage: 6.6 MB\n"
     ]
    }
   ],
   "source": [
    "students.info()"
   ]
  },
  {
   "cell_type": "markdown",
   "metadata": {},
   "source": [
    "По полученным данным видим, что в столбце score есть незаполненные значения."
   ]
  },
  {
   "cell_type": "code",
   "execution_count": 15,
   "metadata": {},
   "outputs": [
    {
     "data": {
      "text/plain": [
       "'Количество уникальных тест: 188'"
      ]
     },
     "metadata": {},
     "output_type": "display_data"
    },
    {
     "data": {
      "text/plain": [
       "'Количество студентов: 23369'"
      ]
     },
     "metadata": {},
     "output_type": "display_data"
    }
   ],
   "source": [
    "display(f\"Количество уникальных тест: {students.id_assessment.nunique()}\")\n",
    "display(f\"Количество студентов: {students.id_student.nunique()}\")"
   ]
  },
  {
   "cell_type": "markdown",
   "metadata": {},
   "source": [
    "Видим, что в таблице, содержащей результаты тестов студентов, представлены данные только о 188 тестах из 206."
   ]
  },
  {
   "cell_type": "markdown",
   "metadata": {},
   "source": [
    "<hr>"
   ]
  },
  {
   "cell_type": "markdown",
   "metadata": {},
   "source": [
    "### 1.5 Загрузим и посмотрим данные о регистрации студентов"
   ]
  },
  {
   "cell_type": "code",
   "execution_count": 16,
   "metadata": {},
   "outputs": [
    {
     "data": {
      "text/plain": [
       "'Количество строк и столбцов: (32593, 5)'"
      ]
     },
     "metadata": {},
     "output_type": "display_data"
    }
   ],
   "source": [
    "registration = pd.read_csv('studentRegistration.csv')\n",
    "display(f\"Количество строк и столбцов: {registration.shape}\")"
   ]
  },
  {
   "cell_type": "code",
   "execution_count": 17,
   "metadata": {},
   "outputs": [
    {
     "name": "stdout",
     "output_type": "stream",
     "text": [
      "<class 'pandas.core.frame.DataFrame'>\n",
      "RangeIndex: 32593 entries, 0 to 32592\n",
      "Data columns (total 5 columns):\n",
      " #   Column               Non-Null Count  Dtype  \n",
      "---  ------               --------------  -----  \n",
      " 0   code_module          32593 non-null  object \n",
      " 1   code_presentation    32593 non-null  object \n",
      " 2   id_student           32593 non-null  int64  \n",
      " 3   date_registration    32548 non-null  float64\n",
      " 4   date_unregistration  10072 non-null  float64\n",
      "dtypes: float64(2), int64(1), object(2)\n",
      "memory usage: 1.2+ MB\n"
     ]
    },
    {
     "data": {
      "text/plain": [
       "None"
      ]
     },
     "metadata": {},
     "output_type": "display_data"
    },
    {
     "data": {
      "text/plain": [
       "'Количество пропущенных значений в каждом столбце'"
      ]
     },
     "metadata": {},
     "output_type": "display_data"
    },
    {
     "data": {
      "text/plain": [
       "code_module                0\n",
       "code_presentation          0\n",
       "id_student                 0\n",
       "date_registration         45\n",
       "date_unregistration    22521\n",
       "dtype: int64"
      ]
     },
     "metadata": {},
     "output_type": "display_data"
    }
   ],
   "source": [
    "display(registration.info())\n",
    "display(f\"Количество пропущенных значений в каждом столбце\")\n",
    "display(registration.isna().sum())"
   ]
  },
  {
   "cell_type": "code",
   "execution_count": 18,
   "metadata": {},
   "outputs": [
    {
     "data": {
      "text/plain": [
       "\"Уникальные коды предметов: ['AAA' 'BBB' 'CCC' 'DDD' 'EEE' 'FFF' 'GGG']\""
      ]
     },
     "metadata": {},
     "output_type": "display_data"
    },
    {
     "data": {
      "text/plain": [
       "\"Уникальные коды семестров: ['2013J' '2014J' '2013B' '2014B']\""
      ]
     },
     "metadata": {},
     "output_type": "display_data"
    },
    {
     "data": {
      "text/plain": [
       "'Количество уникальных идентификаторов студентов: 28785'"
      ]
     },
     "metadata": {},
     "output_type": "display_data"
    }
   ],
   "source": [
    "display(f\"Уникальные коды предметов: {registration.code_module.unique()}\")\n",
    "display(f\"Уникальные коды семестров: {registration.code_presentation.unique()}\")\n",
    "display(f\"Количество уникальных идентификаторов студентов: {registration.id_student.nunique()}\")"
   ]
  },
  {
   "cell_type": "markdown",
   "metadata": {},
   "source": [
    "Некоторые студенты не имеют даты регистрации и отмены регистрации. Проверим, сдавали ли они тесты. Если нет, удалим эти строки, так как сомневаемся в их регистрации. Если есть дата отмены, но нет даты регистрации, заполним поле даты регистрации нулем для сохранения данных для анализа отмен."
   ]
  },
  {
   "cell_type": "code",
   "execution_count": 19,
   "metadata": {},
   "outputs": [],
   "source": [
    "# Отбираем записи из DataFrame registration, где дата регистрации отсутствует, и сохраняем их в DataFrame date_reg\n",
    "date_reg = registration[registration['date_registration'].isnull()]\n",
    "\n",
    "# Отбираем записи из DataFrame date_reg, где дата аннулирования также отсутствует, и сбрасываем индексы\n",
    "date_reg_unreg = date_reg[date_reg['date_unregistration'].isnull()].reset_index()\n",
    "\n",
    "# Объединяем DataFrame date_reg_unreg с DataFrame students по столбцу 'id_student' с использованием внутреннего соединения\n",
    "merged_data = date_reg_unreg.merge(students, how='inner', on='id_student')\n"
   ]
  },
  {
   "cell_type": "code",
   "execution_count": 20,
   "metadata": {},
   "outputs": [
    {
     "data": {
      "text/plain": [
       "code_module                0\n",
       "code_presentation          0\n",
       "id_student                 0\n",
       "date_registration          0\n",
       "date_unregistration    22515\n",
       "dtype: int64"
      ]
     },
     "metadata": {},
     "output_type": "display_data"
    }
   ],
   "source": [
    "# Получаем индексы записей, которые нужно удалить из DataFrame registration\n",
    "index_to_drop = date_reg_unreg['index']\n",
    "\n",
    "# Удаляем записи из DataFrame registration по индексам, полученным выше, и сбрасываем индексы\n",
    "registration = registration.drop(index=index_to_drop).reset_index(drop=True)\n",
    "\n",
    "# Заполняем пропущенные значения в столбце 'date_registration' нулями\n",
    "registration['date_registration'] = registration['date_registration'].fillna(0)\n",
    "\n",
    "# Выводим количество пропущенных значений в каждом столбце DataFrame registration для проверки\n",
    "display(registration.isna().sum())\n"
   ]
  },
  {
   "cell_type": "code",
   "execution_count": 21,
   "metadata": {},
   "outputs": [
    {
     "name": "stdout",
     "output_type": "stream",
     "text": [
      "<class 'pandas.core.frame.DataFrame'>\n",
      "RangeIndex: 32587 entries, 0 to 32586\n",
      "Data columns (total 5 columns):\n",
      " #   Column               Non-Null Count  Dtype  \n",
      "---  ------               --------------  -----  \n",
      " 0   code_module          32587 non-null  object \n",
      " 1   code_presentation    32587 non-null  object \n",
      " 2   id_student           32587 non-null  int64  \n",
      " 3   date_registration    32587 non-null  float64\n",
      " 4   date_unregistration  10072 non-null  float64\n",
      "dtypes: float64(2), int64(1), object(2)\n",
      "memory usage: 1.2+ MB\n"
     ]
    },
    {
     "data": {
      "text/plain": [
       "None"
      ]
     },
     "metadata": {},
     "output_type": "display_data"
    },
    {
     "data": {
      "text/plain": [
       "'Количество пропущенных значений в каждом столбце'"
      ]
     },
     "metadata": {},
     "output_type": "display_data"
    },
    {
     "data": {
      "text/plain": [
       "code_module                0\n",
       "code_presentation          0\n",
       "id_student                 0\n",
       "date_registration          0\n",
       "date_unregistration    22515\n",
       "dtype: int64"
      ]
     },
     "metadata": {},
     "output_type": "display_data"
    },
    {
     "data": {
      "text/plain": [
       "\"Уникальные коды предметов: ['AAA' 'BBB' 'CCC' 'DDD' 'EEE' 'FFF' 'GGG']\""
      ]
     },
     "metadata": {},
     "output_type": "display_data"
    },
    {
     "data": {
      "text/plain": [
       "\"Уникальные коды семестров: ['2013J' '2014J' '2013B' '2014B']\""
      ]
     },
     "metadata": {},
     "output_type": "display_data"
    },
    {
     "data": {
      "text/plain": [
       "'Количество уникальных идентификаторов студентов: 28780'"
      ]
     },
     "metadata": {},
     "output_type": "display_data"
    }
   ],
   "source": [
    "display(registration.info())\n",
    "display(f\"Количество пропущенных значений в каждом столбце\")\n",
    "display(registration.isna().sum())\n",
    "display(f\"Уникальные коды предметов: {registration.code_module.unique()}\")\n",
    "display(f\"Уникальные коды семестров: {registration.code_presentation.unique()}\")\n",
    "display(f\"Количество уникальных идентификаторов студентов: {registration.id_student.nunique()}\")"
   ]
  },
  {
   "cell_type": "markdown",
   "metadata": {},
   "source": [
    "После проверки данных видим, что в исправленной таблице 32 587 строк, что меньше, чем было — 32 593. Количество столбцов осталось прежним — 5.  \n",
    "\n",
    "Уникальных студентов стало 28 780, что меньше, чем было — 28 785."
   ]
  },
  {
   "cell_type": "markdown",
   "metadata": {},
   "source": [
    "<hr>"
   ]
  },
  {
   "cell_type": "markdown",
   "metadata": {},
   "source": [
    "### 2. Подсчет студентов, которые успешно сдали только один курс. (Успешная сдача — это зачёт по курсу на экзамене)"
   ]
  },
  {
   "cell_type": "code",
   "execution_count": 22,
   "metadata": {},
   "outputs": [
    {
     "data": {
      "text/plain": [
       "'Количество студентов, успешно сдавших только один курс: 3802'"
      ]
     },
     "metadata": {},
     "output_type": "display_data"
    }
   ],
   "source": [
    "# Оставляем только экзамены с успешными оценками (score >= 40)\n",
    "\n",
    "# Фильтруем DataFrame assessment, чтобы оставить только записи с типом 'Exam'\n",
    "exams = assessment[assessment['assessment_type'] == 'Exam']                              \n",
    "\n",
    "# Отбираем записи из DataFrame students, где id_assessment содержится в exams и score больше или равен 40\n",
    "successful_exams = students[\n",
    "    (students['id_assessment'].isin(exams['id_assessment'])) &\n",
    "    (students['score'] >= 40)\n",
    "]                                             \n",
    "\n",
    "# Считаем количество успешно сданных курсов для каждого студента\n",
    "successful_courses = successful_exams.groupby('id_student').size().reset_index(name='num_courses')\n",
    "\n",
    "# Отбираем студентов, успешно сдавших только один курс\n",
    "students_with_one_course = successful_courses[successful_courses['num_courses'] == 1]\n",
    "\n",
    "# Выводим количество студентов, успешно сдавших только один курс\n",
    "display(f\"Количество студентов, успешно сдавших только один курс: {len(students_with_one_course)}\")\n"
   ]
  },
  {
   "cell_type": "markdown",
   "metadata": {},
   "source": [
    "По полученным данным видим, что у нас 3802 студента сдали успешно только один экзамен."
   ]
  },
  {
   "cell_type": "markdown",
   "metadata": {},
   "source": [
    "<hr>"
   ]
  },
  {
   "cell_type": "markdown",
   "metadata": {},
   "source": [
    "### 3. Выявление самого сложного и самого простого экзамена\n",
    "\n",
    "* *завершаемость = кол-во успешных экзаменов / кол-во всех попыток сдать экзамен*"
   ]
  },
  {
   "cell_type": "code",
   "execution_count": 23,
   "metadata": {},
   "outputs": [
    {
     "data": {
      "text/plain": [
       "'Самый сложный курс: DDD в семестре 2013B'"
      ]
     },
     "metadata": {},
     "output_type": "display_data"
    },
    {
     "data": {
      "text/plain": [
       "'Самый сложный экзамен под id: 25340'"
      ]
     },
     "metadata": {},
     "output_type": "display_data"
    },
    {
     "data": {
      "text/plain": [
       "'Завершаемость курса: 83.72%'"
      ]
     },
     "metadata": {},
     "output_type": "display_data"
    },
    {
     "data": {
      "text/plain": [
       "'Самый простой курс: DDD в семестре 2014B'"
      ]
     },
     "metadata": {},
     "output_type": "display_data"
    },
    {
     "data": {
      "text/plain": [
       "'Самый простой экзамен под id: 25361'"
      ]
     },
     "metadata": {},
     "output_type": "display_data"
    },
    {
     "data": {
      "text/plain": [
       "'Завершаемость курса: 92.56%'"
      ]
     },
     "metadata": {},
     "output_type": "display_data"
    }
   ],
   "source": [
    "# Объединяем данные по экзаменам и результатам студентов, используя столбец 'id_assessment' как ключ\n",
    "exam_results = pd.merge(exams, students, on='id_assessment')\n",
    "\n",
    "# Расчет завершаемости для каждого экзамена\n",
    "exam_completion = exam_results.groupby(['code_module', 'code_presentation', 'id_assessment'])\\\n",
    "                              .agg(\n",
    "                                  total_students=('id_student', 'nunique'),   # Общее количество студентов, сдавших экзамен\n",
    "                                  successful_students=('score', lambda x: (x >= 40).sum())  # Количество студентов, успешно сдавших экзамен\n",
    "                              ).reset_index()  # Сбрасываем индексы для удобства работы с DataFrame\n",
    "\n",
    "# Расчет завершаемости: успешно сдавших студентов / общее количество студентов\n",
    "exam_completion['completion_rate'] = exam_completion['successful_students'] / exam_completion['total_students']\n",
    "\n",
    "# Определение самого сложного экзамена (с минимальной завершаемостью)\n",
    "hardest_exam = exam_completion.loc[exam_completion['completion_rate'].idxmin()]\n",
    "\n",
    "# Определение самого простого экзамена (с максимальной завершаемостью)\n",
    "easiest_exam = exam_completion.loc[exam_completion['completion_rate'].idxmax()]\n",
    "\n",
    "# Вывод результатов о самом сложном экзамене\n",
    "display(f\"Самый сложный курс: {hardest_exam['code_module']} в семестре {hardest_exam['code_presentation']}\")\n",
    "display(f\"Самый сложный экзамен под id: {hardest_exam['id_assessment']}\")\n",
    "display(f\"Завершаемость курса: {hardest_exam['completion_rate']:.2%}\")\n",
    "\n",
    "# Вывод результатов о самом простом экзамене\n",
    "display(f\"Самый простой курс: {easiest_exam['code_module']} в семестре {easiest_exam['code_presentation']}\")\n",
    "display(f\"Самый простой экзамен под id: {easiest_exam['id_assessment']}\")\n",
    "display(f\"Завершаемость курса: {easiest_exam['completion_rate']:.2%}\")\n"
   ]
  },
  {
   "cell_type": "markdown",
   "metadata": {},
   "source": [
    "<hr> "
   ]
  },
  {
   "cell_type": "markdown",
   "metadata": {},
   "source": [
    "### 4. Определение среднего срока сдачи экзаменов по каждому предмету"
   ]
  },
  {
   "cell_type": "code",
   "execution_count": 24,
   "metadata": {},
   "outputs": [
    {
     "data": {
      "text/html": [
       "<div>\n",
       "<style scoped>\n",
       "    .dataframe tbody tr th:only-of-type {\n",
       "        vertical-align: middle;\n",
       "    }\n",
       "\n",
       "    .dataframe tbody tr th {\n",
       "        vertical-align: top;\n",
       "    }\n",
       "\n",
       "    .dataframe thead th {\n",
       "        text-align: right;\n",
       "    }\n",
       "</style>\n",
       "<table border=\"1\" class=\"dataframe\">\n",
       "  <thead>\n",
       "    <tr style=\"text-align: right;\">\n",
       "      <th></th>\n",
       "      <th>Код предмета</th>\n",
       "      <th>Средний срок сдачи</th>\n",
       "    </tr>\n",
       "  </thead>\n",
       "  <tbody>\n",
       "    <tr>\n",
       "      <th>0</th>\n",
       "      <td>CCC</td>\n",
       "      <td>239.0</td>\n",
       "    </tr>\n",
       "    <tr>\n",
       "      <th>1</th>\n",
       "      <td>DDD</td>\n",
       "      <td>238.0</td>\n",
       "    </tr>\n",
       "  </tbody>\n",
       "</table>\n",
       "</div>"
      ],
      "text/plain": [
       "  Код предмета  Средний срок сдачи\n",
       "0          CCC               239.0\n",
       "1          DDD               238.0"
      ]
     },
     "metadata": {},
     "output_type": "display_data"
    }
   ],
   "source": [
    "# Рассчитываем средний срок сдачи экзаменов для каждого предмета\n",
    "average_exam_completion = (\n",
    "    successful_exams.sort_values(by='date_submitted')\n",
    "    .drop_duplicates(subset=['id_student', 'id_assessment'], keep='last')  # Удаляем дубликаты, оставляя последние даты сдачи экзаменов для каждого студента\n",
    "    .merge(exams[['id_assessment', 'code_module']], on='id_assessment')  # Объединяем с DataFrame exams, чтобы получить код предмета\n",
    "    .groupby('code_module', as_index=False)  # Группируем данные по коду предмета\n",
    "    .agg({'date_submitted': 'mean'})  # Рассчитываем среднюю дату сдачи экзаменов\n",
    "    .round(0)  # Округляем результаты до целого числа\n",
    "    .rename(columns={'date_submitted': 'Средний срок сдачи', 'code_module': 'Код предмета'})  # Переименовываем столбцы для удобства\n",
    ")\n",
    "\n",
    "# Выводим результат\n",
    "display(average_exam_completion)\n"
   ]
  },
  {
   "cell_type": "markdown",
   "metadata": {},
   "source": [
    "<hr> "
   ]
  },
  {
   "cell_type": "markdown",
   "metadata": {},
   "source": [
    " ### 5. Определение топ-3 предмета по популярности. Определение топ-3 предмета с самым большим оттоком."
   ]
  },
  {
   "cell_type": "markdown",
   "metadata": {},
   "source": [
    "Мы можем заметить, что предметы с наибольшим количеством регистраций (BBB, FFF, DDD) также демонстрируют самый высокий отток студентов. Это может быть связано с тем, что эти дисциплины очень популярны, но при этом сложны для усвоения, или с другими факторами, которые способствуют уходу студентов.\n",
    "\n",
    "Интересно, что в ТОП-3 по популярности и ТОП-3 по оттоку входят одни и те же предметы (BBB, FFF, DDD). Это свидетельствует о том, что эти дисциплины являются как самыми привлекательными, так и самыми проблемными с точки зрения удержания студентов.\n",
    "\n",
    "Высокий отток требует тщательного анализа и разработки мер, направленных на улучшение ситуации."
   ]
  },
  {
   "cell_type": "code",
   "execution_count": 25,
   "metadata": {},
   "outputs": [
    {
     "data": {
      "text/plain": [
       "'Самые популярные предметы:'"
      ]
     },
     "metadata": {},
     "output_type": "display_data"
    },
    {
     "data": {
      "text/html": [
       "<div>\n",
       "<style scoped>\n",
       "    .dataframe tbody tr th:only-of-type {\n",
       "        vertical-align: middle;\n",
       "    }\n",
       "\n",
       "    .dataframe tbody tr th {\n",
       "        vertical-align: top;\n",
       "    }\n",
       "\n",
       "    .dataframe thead th {\n",
       "        text-align: right;\n",
       "    }\n",
       "</style>\n",
       "<table border=\"1\" class=\"dataframe\">\n",
       "  <thead>\n",
       "    <tr style=\"text-align: right;\">\n",
       "      <th></th>\n",
       "      <th>code_module</th>\n",
       "      <th>registrations</th>\n",
       "      <th>dropouts</th>\n",
       "      <th>dropout_rate</th>\n",
       "    </tr>\n",
       "  </thead>\n",
       "  <tbody>\n",
       "    <tr>\n",
       "      <th>1</th>\n",
       "      <td>BBB</td>\n",
       "      <td>7691</td>\n",
       "      <td>2314</td>\n",
       "      <td>30.087115</td>\n",
       "    </tr>\n",
       "    <tr>\n",
       "      <th>5</th>\n",
       "      <td>FFF</td>\n",
       "      <td>7396</td>\n",
       "      <td>2249</td>\n",
       "      <td>30.408329</td>\n",
       "    </tr>\n",
       "    <tr>\n",
       "      <th>3</th>\n",
       "      <td>DDD</td>\n",
       "      <td>5846</td>\n",
       "      <td>2065</td>\n",
       "      <td>35.323298</td>\n",
       "    </tr>\n",
       "  </tbody>\n",
       "</table>\n",
       "</div>"
      ],
      "text/plain": [
       "  code_module  registrations  dropouts  dropout_rate\n",
       "1         BBB           7691      2314     30.087115\n",
       "5         FFF           7396      2249     30.408329\n",
       "3         DDD           5846      2065     35.323298"
      ]
     },
     "metadata": {},
     "output_type": "display_data"
    },
    {
     "data": {
      "text/plain": [
       "'Предметы с самым большим оттоком:'"
      ]
     },
     "metadata": {},
     "output_type": "display_data"
    },
    {
     "data": {
      "text/html": [
       "<div>\n",
       "<style scoped>\n",
       "    .dataframe tbody tr th:only-of-type {\n",
       "        vertical-align: middle;\n",
       "    }\n",
       "\n",
       "    .dataframe tbody tr th {\n",
       "        vertical-align: top;\n",
       "    }\n",
       "\n",
       "    .dataframe thead th {\n",
       "        text-align: right;\n",
       "    }\n",
       "</style>\n",
       "<table border=\"1\" class=\"dataframe\">\n",
       "  <thead>\n",
       "    <tr style=\"text-align: right;\">\n",
       "      <th></th>\n",
       "      <th>code_module</th>\n",
       "      <th>registrations</th>\n",
       "      <th>dropouts</th>\n",
       "      <th>dropout_rate</th>\n",
       "    </tr>\n",
       "  </thead>\n",
       "  <tbody>\n",
       "    <tr>\n",
       "      <th>2</th>\n",
       "      <td>CCC</td>\n",
       "      <td>4250</td>\n",
       "      <td>1858</td>\n",
       "      <td>43.717647</td>\n",
       "    </tr>\n",
       "    <tr>\n",
       "      <th>3</th>\n",
       "      <td>DDD</td>\n",
       "      <td>5846</td>\n",
       "      <td>2065</td>\n",
       "      <td>35.323298</td>\n",
       "    </tr>\n",
       "    <tr>\n",
       "      <th>5</th>\n",
       "      <td>FFF</td>\n",
       "      <td>7396</td>\n",
       "      <td>2249</td>\n",
       "      <td>30.408329</td>\n",
       "    </tr>\n",
       "  </tbody>\n",
       "</table>\n",
       "</div>"
      ],
      "text/plain": [
       "  code_module  registrations  dropouts  dropout_rate\n",
       "2         CCC           4250      1858     43.717647\n",
       "3         DDD           5846      2065     35.323298\n",
       "5         FFF           7396      2249     30.408329"
      ]
     },
     "metadata": {},
     "output_type": "display_data"
    }
   ],
   "source": [
    "# Рассчитываем количество регистраций для каждого курса\n",
    "registrations = registration.groupby('code_module')['id_student'].nunique().reset_index(name='registrations')\n",
    "\n",
    "# Определяем отток только тех студентов, которые после отмены регистрации не регистрировались повторно\n",
    "# Сначала получим список студентов, которые отменили регистрацию\n",
    "dropout_students = registration[registration['date_unregistration'].notna()]['id_student'].unique()\n",
    "\n",
    "# Теперь проверим, сколько из этих студентов больше не зарегистрированы на курсы\n",
    "dropouts = registration[registration['id_student'].isin(dropout_students) & \n",
    "                        (registration['date_unregistration'].notna())].groupby('code_module')['id_student'].nunique().reset_index(name='dropouts')\n",
    "\n",
    "# Объединяем данные по регистрациям и оттоку, заполняя пропуски нулями\n",
    "course_popularity = registrations.merge(dropouts, on='code_module', how='left').fillna(0)\n",
    "\n",
    "# Рассчитываем процент оттока\n",
    "course_popularity['dropout_rate'] = course_popularity['dropouts'] / course_popularity['registrations'] * 100\n",
    "\n",
    "# Находим самые популярные предметы (с наибольшим количеством регистраций)\n",
    "most_popular_courses = course_popularity.nlargest(3, 'registrations')\n",
    "\n",
    "# Находим предметы с самым высоким процентом оттока\n",
    "highest_dropout_courses = course_popularity.nlargest(3, 'dropout_rate')\n",
    "\n",
    "# Выводим самые популярные предметы\n",
    "display(\"Самые популярные предметы:\")\n",
    "display(most_popular_courses)\n",
    "\n",
    "# Выводим предметы с самым большим оттоком\n",
    "display(f\"Предметы с самым большим оттоком:\")\n",
    "display(highest_dropout_courses)"
   ]
  },
  {
   "cell_type": "markdown",
   "metadata": {},
   "source": [
    "<hr> "
   ]
  },
  {
   "cell_type": "markdown",
   "metadata": {},
   "source": [
    "### 6. Выявление семестра с самой низкой завершаемостью курсов и самыми длинными средними сроками сдачи курсов в период с начала 2013 и конца 2014 года"
   ]
  },
  {
   "cell_type": "markdown",
   "metadata": {},
   "source": [
    "Завершаемость.  \n",
    "Поскольку не у всех предметов есть экзамены, индикатора успешно пройденного курса (выявлено выше), для курсов без данных об экзаменах мы будем подсчитывать общую оценку всех тестов и считать курс успешно пройденным при общей оценке выше 40. Общая оценка высчитывается как сумма всех баллов умноженная на вес теста и с условием, что решены все тесты курса"
   ]
  },
  {
   "cell_type": "code",
   "execution_count": 26,
   "metadata": {},
   "outputs": [],
   "source": [
    "assessment['code_course'] = assessment['code_module'] + '_' + assessment['code_presentation']\n",
    "courses['code_course'] = courses['code_module'] + '_' + courses['code_presentation']"
   ]
  },
  {
   "cell_type": "code",
   "execution_count": 27,
   "metadata": {},
   "outputs": [
    {
     "data": {
      "text/html": [
       "<div>\n",
       "<style scoped>\n",
       "    .dataframe tbody tr th:only-of-type {\n",
       "        vertical-align: middle;\n",
       "    }\n",
       "\n",
       "    .dataframe tbody tr th {\n",
       "        vertical-align: top;\n",
       "    }\n",
       "\n",
       "    .dataframe thead th {\n",
       "        text-align: right;\n",
       "    }\n",
       "</style>\n",
       "<table border=\"1\" class=\"dataframe\">\n",
       "  <thead>\n",
       "    <tr style=\"text-align: right;\">\n",
       "      <th></th>\n",
       "      <th>code_presentation</th>\n",
       "      <th>all_count</th>\n",
       "    </tr>\n",
       "  </thead>\n",
       "  <tbody>\n",
       "    <tr>\n",
       "      <th>0</th>\n",
       "      <td>2013B</td>\n",
       "      <td>3803</td>\n",
       "    </tr>\n",
       "    <tr>\n",
       "      <th>1</th>\n",
       "      <td>2013J</td>\n",
       "      <td>7098</td>\n",
       "    </tr>\n",
       "    <tr>\n",
       "      <th>2</th>\n",
       "      <td>2014B</td>\n",
       "      <td>5748</td>\n",
       "    </tr>\n",
       "    <tr>\n",
       "      <th>3</th>\n",
       "      <td>2014J</td>\n",
       "      <td>8613</td>\n",
       "    </tr>\n",
       "  </tbody>\n",
       "</table>\n",
       "</div>"
      ],
      "text/plain": [
       "  code_presentation  all_count\n",
       "0             2013B       3803\n",
       "1             2013J       7098\n",
       "2             2014B       5748\n",
       "3             2014J       8613"
      ]
     },
     "execution_count": 27,
     "metadata": {},
     "output_type": "execute_result"
    }
   ],
   "source": [
    "# Объединить таблицы studentAssessment и assessments по полю id_assessment\n",
    "#Подсчет всех студентов по семестрам\n",
    "all_count = students.merge(assessment, on='id_assessment')\\\n",
    "                    .groupby(['code_presentation'], as_index=False)\\\n",
    "                    .agg(all_count = ('id_student', 'nunique'))\n",
    "all_count.head()"
   ]
  },
  {
   "cell_type": "code",
   "execution_count": 28,
   "metadata": {},
   "outputs": [
    {
     "data": {
      "text/html": [
       "<div>\n",
       "<style scoped>\n",
       "    .dataframe tbody tr th:only-of-type {\n",
       "        vertical-align: middle;\n",
       "    }\n",
       "\n",
       "    .dataframe tbody tr th {\n",
       "        vertical-align: top;\n",
       "    }\n",
       "\n",
       "    .dataframe thead th {\n",
       "        text-align: right;\n",
       "    }\n",
       "</style>\n",
       "<table border=\"1\" class=\"dataframe\">\n",
       "  <thead>\n",
       "    <tr style=\"text-align: right;\">\n",
       "      <th></th>\n",
       "      <th>id_assessment</th>\n",
       "      <th>id_student</th>\n",
       "      <th>date_submitted</th>\n",
       "      <th>is_banked</th>\n",
       "      <th>score</th>\n",
       "      <th>code_module</th>\n",
       "      <th>code_presentation</th>\n",
       "      <th>assessment_type</th>\n",
       "      <th>date</th>\n",
       "      <th>weight</th>\n",
       "      <th>code_course</th>\n",
       "    </tr>\n",
       "  </thead>\n",
       "  <tbody>\n",
       "    <tr>\n",
       "      <th>52924</th>\n",
       "      <td>24290</td>\n",
       "      <td>559706</td>\n",
       "      <td>234</td>\n",
       "      <td>0</td>\n",
       "      <td>78.0</td>\n",
       "      <td>CCC</td>\n",
       "      <td>2014B</td>\n",
       "      <td>Exam</td>\n",
       "      <td>NaN</td>\n",
       "      <td>100.0</td>\n",
       "      <td>CCC_2014B</td>\n",
       "    </tr>\n",
       "    <tr>\n",
       "      <th>52925</th>\n",
       "      <td>24290</td>\n",
       "      <td>559770</td>\n",
       "      <td>230</td>\n",
       "      <td>0</td>\n",
       "      <td>54.0</td>\n",
       "      <td>CCC</td>\n",
       "      <td>2014B</td>\n",
       "      <td>Exam</td>\n",
       "      <td>NaN</td>\n",
       "      <td>100.0</td>\n",
       "      <td>CCC_2014B</td>\n",
       "    </tr>\n",
       "    <tr>\n",
       "      <th>52926</th>\n",
       "      <td>24290</td>\n",
       "      <td>560114</td>\n",
       "      <td>230</td>\n",
       "      <td>0</td>\n",
       "      <td>64.0</td>\n",
       "      <td>CCC</td>\n",
       "      <td>2014B</td>\n",
       "      <td>Exam</td>\n",
       "      <td>NaN</td>\n",
       "      <td>100.0</td>\n",
       "      <td>CCC_2014B</td>\n",
       "    </tr>\n",
       "    <tr>\n",
       "      <th>52927</th>\n",
       "      <td>24290</td>\n",
       "      <td>560311</td>\n",
       "      <td>234</td>\n",
       "      <td>0</td>\n",
       "      <td>100.0</td>\n",
       "      <td>CCC</td>\n",
       "      <td>2014B</td>\n",
       "      <td>Exam</td>\n",
       "      <td>NaN</td>\n",
       "      <td>100.0</td>\n",
       "      <td>CCC_2014B</td>\n",
       "    </tr>\n",
       "    <tr>\n",
       "      <th>52928</th>\n",
       "      <td>24290</td>\n",
       "      <td>560494</td>\n",
       "      <td>230</td>\n",
       "      <td>0</td>\n",
       "      <td>92.0</td>\n",
       "      <td>CCC</td>\n",
       "      <td>2014B</td>\n",
       "      <td>Exam</td>\n",
       "      <td>NaN</td>\n",
       "      <td>100.0</td>\n",
       "      <td>CCC_2014B</td>\n",
       "    </tr>\n",
       "    <tr>\n",
       "      <th>...</th>\n",
       "      <td>...</td>\n",
       "      <td>...</td>\n",
       "      <td>...</td>\n",
       "      <td>...</td>\n",
       "      <td>...</td>\n",
       "      <td>...</td>\n",
       "      <td>...</td>\n",
       "      <td>...</td>\n",
       "      <td>...</td>\n",
       "      <td>...</td>\n",
       "      <td>...</td>\n",
       "    </tr>\n",
       "    <tr>\n",
       "      <th>95978</th>\n",
       "      <td>25368</td>\n",
       "      <td>652617</td>\n",
       "      <td>243</td>\n",
       "      <td>0</td>\n",
       "      <td>56.0</td>\n",
       "      <td>DDD</td>\n",
       "      <td>2014J</td>\n",
       "      <td>Exam</td>\n",
       "      <td>NaN</td>\n",
       "      <td>100.0</td>\n",
       "      <td>DDD_2014J</td>\n",
       "    </tr>\n",
       "    <tr>\n",
       "      <th>95980</th>\n",
       "      <td>25368</td>\n",
       "      <td>652680</td>\n",
       "      <td>243</td>\n",
       "      <td>0</td>\n",
       "      <td>91.0</td>\n",
       "      <td>DDD</td>\n",
       "      <td>2014J</td>\n",
       "      <td>Exam</td>\n",
       "      <td>NaN</td>\n",
       "      <td>100.0</td>\n",
       "      <td>DDD_2014J</td>\n",
       "    </tr>\n",
       "    <tr>\n",
       "      <th>95981</th>\n",
       "      <td>25368</td>\n",
       "      <td>652732</td>\n",
       "      <td>249</td>\n",
       "      <td>0</td>\n",
       "      <td>47.0</td>\n",
       "      <td>DDD</td>\n",
       "      <td>2014J</td>\n",
       "      <td>Exam</td>\n",
       "      <td>NaN</td>\n",
       "      <td>100.0</td>\n",
       "      <td>DDD_2014J</td>\n",
       "    </tr>\n",
       "    <tr>\n",
       "      <th>95982</th>\n",
       "      <td>25368</td>\n",
       "      <td>652965</td>\n",
       "      <td>242</td>\n",
       "      <td>0</td>\n",
       "      <td>87.0</td>\n",
       "      <td>DDD</td>\n",
       "      <td>2014J</td>\n",
       "      <td>Exam</td>\n",
       "      <td>NaN</td>\n",
       "      <td>100.0</td>\n",
       "      <td>DDD_2014J</td>\n",
       "    </tr>\n",
       "    <tr>\n",
       "      <th>95984</th>\n",
       "      <td>25368</td>\n",
       "      <td>653319</td>\n",
       "      <td>250</td>\n",
       "      <td>0</td>\n",
       "      <td>64.0</td>\n",
       "      <td>DDD</td>\n",
       "      <td>2014J</td>\n",
       "      <td>Exam</td>\n",
       "      <td>NaN</td>\n",
       "      <td>100.0</td>\n",
       "      <td>DDD_2014J</td>\n",
       "    </tr>\n",
       "  </tbody>\n",
       "</table>\n",
       "<p>4392 rows × 11 columns</p>\n",
       "</div>"
      ],
      "text/plain": [
       "       id_assessment  id_student  date_submitted  is_banked  score  \\\n",
       "52924          24290      559706             234          0   78.0   \n",
       "52925          24290      559770             230          0   54.0   \n",
       "52926          24290      560114             230          0   64.0   \n",
       "52927          24290      560311             234          0  100.0   \n",
       "52928          24290      560494             230          0   92.0   \n",
       "...              ...         ...             ...        ...    ...   \n",
       "95978          25368      652617             243          0   56.0   \n",
       "95980          25368      652680             243          0   91.0   \n",
       "95981          25368      652732             249          0   47.0   \n",
       "95982          25368      652965             242          0   87.0   \n",
       "95984          25368      653319             250          0   64.0   \n",
       "\n",
       "      code_module code_presentation assessment_type  date  weight code_course  \n",
       "52924         CCC             2014B            Exam   NaN   100.0   CCC_2014B  \n",
       "52925         CCC             2014B            Exam   NaN   100.0   CCC_2014B  \n",
       "52926         CCC             2014B            Exam   NaN   100.0   CCC_2014B  \n",
       "52927         CCC             2014B            Exam   NaN   100.0   CCC_2014B  \n",
       "52928         CCC             2014B            Exam   NaN   100.0   CCC_2014B  \n",
       "...           ...               ...             ...   ...     ...         ...  \n",
       "95978         DDD             2014J            Exam   NaN   100.0   DDD_2014J  \n",
       "95980         DDD             2014J            Exam   NaN   100.0   DDD_2014J  \n",
       "95981         DDD             2014J            Exam   NaN   100.0   DDD_2014J  \n",
       "95982         DDD             2014J            Exam   NaN   100.0   DDD_2014J  \n",
       "95984         DDD             2014J            Exam   NaN   100.0   DDD_2014J  \n",
       "\n",
       "[4392 rows x 11 columns]"
      ]
     },
     "execution_count": 28,
     "metadata": {},
     "output_type": "execute_result"
    }
   ],
   "source": [
    "# Подсчет студентов, сдавших курс успешно\n",
    "# Фильтрация по курсам, где есть экзамен; типу теста - экзамен и ученикам, чья оценка выше или равна 40\n",
    "\n",
    "with_exam = students.merge(assessment, on = 'id_assessment')\\\n",
    "                .query(\"code_course in ('DDD_2013B','CCC_2014J','DDD_2014J','CCC_2014B','DDD_2013J','DDD_2014B')\")\\\n",
    "                .query(\"assessment_type == 'Exam'\")\\\n",
    "                .query(\"score >= 40\")\n",
    "with_exam"
   ]
  },
  {
   "cell_type": "code",
   "execution_count": 29,
   "metadata": {},
   "outputs": [
    {
     "data": {
      "text/html": [
       "<div>\n",
       "<style scoped>\n",
       "    .dataframe tbody tr th:only-of-type {\n",
       "        vertical-align: middle;\n",
       "    }\n",
       "\n",
       "    .dataframe tbody tr th {\n",
       "        vertical-align: top;\n",
       "    }\n",
       "\n",
       "    .dataframe thead th {\n",
       "        text-align: right;\n",
       "    }\n",
       "</style>\n",
       "<table border=\"1\" class=\"dataframe\">\n",
       "  <thead>\n",
       "    <tr style=\"text-align: right;\">\n",
       "      <th></th>\n",
       "      <th>id_student</th>\n",
       "      <th>code_course</th>\n",
       "      <th>code_presentation</th>\n",
       "      <th>weight_score</th>\n",
       "    </tr>\n",
       "  </thead>\n",
       "  <tbody>\n",
       "  </tbody>\n",
       "</table>\n",
       "</div>"
      ],
      "text/plain": [
       "Empty DataFrame\n",
       "Columns: [id_student, code_course, code_presentation, weight_score]\n",
       "Index: []"
      ]
     },
     "execution_count": 29,
     "metadata": {},
     "output_type": "execute_result"
    }
   ],
   "source": [
    "# Объединим таблицы students и assessment по полю id_assessment\n",
    "# Отфильтруем по курсам, где нет экзамена\n",
    "# Сделаем группировку по студентам и курсам для подсчета суммы весов теста и выбор только тех, у кого пройдены все (суммированный вес равен 100)\n",
    "# Объединим с таблицами students и assessment и удалим столбец с суммированным весами, чтобы избежать дубликата названия столбца и за отсутствием необходимости в нем далее\n",
    "without_exam = students.merge(assessment, on = 'id_assessment')\\\n",
    "                .query(\"code_course not in ('DDD_2013B','CCC_2014J','DDD_2014J','CCC_2014B','DDD_2013J','DDD_2014B')\")\\\n",
    "                .groupby(['id_student','code_course'], as_index = False)\\\n",
    "                .agg({'weight':'sum'})\\\n",
    "                .query(\"weight == '100'\")\\\n",
    "                .drop(columns = 'weight')\\\n",
    "                .merge(students.merge(assessment, on = 'id_assessment'), on = ['id_student','code_course'])\n",
    "\n",
    "# Подсчетаем столбец с оценкой в соответствии с весами + приведем вес к десятичному виду дроби\n",
    "without_exam['weight_score'] = without_exam['score'] * without_exam['weight'] / 100\n",
    "\n",
    "# Сделаем группировку по студентам, курсам и семестру (для использования в итоговых подсчетах) и подсчитаем общую оценку\n",
    "# Отфильтруем тех студентов, чья оценка выше или равна 40\n",
    "without_exam = without_exam\\\n",
    "                    .groupby(['id_student','code_course','code_presentation'], as_index = False)\\\n",
    "                    .agg({'weight_score':'sum'})\\\n",
    "                    .query(\"weight_score >= 40\")\n",
    "without_exam.head()"
   ]
  },
  {
   "cell_type": "code",
   "execution_count": 30,
   "metadata": {},
   "outputs": [
    {
     "data": {
      "text/html": [
       "<div>\n",
       "<style scoped>\n",
       "    .dataframe tbody tr th:only-of-type {\n",
       "        vertical-align: middle;\n",
       "    }\n",
       "\n",
       "    .dataframe tbody tr th {\n",
       "        vertical-align: top;\n",
       "    }\n",
       "\n",
       "    .dataframe thead th {\n",
       "        text-align: right;\n",
       "    }\n",
       "</style>\n",
       "<table border=\"1\" class=\"dataframe\">\n",
       "  <thead>\n",
       "    <tr style=\"text-align: right;\">\n",
       "      <th></th>\n",
       "      <th>code_presentation</th>\n",
       "      <th>all_count</th>\n",
       "      <th>success_count</th>\n",
       "      <th>percent</th>\n",
       "    </tr>\n",
       "  </thead>\n",
       "  <tbody>\n",
       "    <tr>\n",
       "      <th>1</th>\n",
       "      <td>2013J</td>\n",
       "      <td>7098</td>\n",
       "      <td>878</td>\n",
       "      <td>0.123697</td>\n",
       "    </tr>\n",
       "    <tr>\n",
       "      <th>0</th>\n",
       "      <td>2013B</td>\n",
       "      <td>3803</td>\n",
       "      <td>504</td>\n",
       "      <td>0.132527</td>\n",
       "    </tr>\n",
       "    <tr>\n",
       "      <th>2</th>\n",
       "      <td>2014B</td>\n",
       "      <td>5748</td>\n",
       "      <td>1140</td>\n",
       "      <td>0.198330</td>\n",
       "    </tr>\n",
       "    <tr>\n",
       "      <th>3</th>\n",
       "      <td>2014J</td>\n",
       "      <td>8613</td>\n",
       "      <td>1814</td>\n",
       "      <td>0.210612</td>\n",
       "    </tr>\n",
       "  </tbody>\n",
       "</table>\n",
       "</div>"
      ],
      "text/plain": [
       "  code_presentation  all_count  success_count   percent\n",
       "1             2013J       7098            878  0.123697\n",
       "0             2013B       3803            504  0.132527\n",
       "2             2014B       5748           1140  0.198330\n",
       "3             2014J       8613           1814  0.210612"
      ]
     },
     "execution_count": 30,
     "metadata": {},
     "output_type": "execute_result"
    }
   ],
   "source": [
    "# Сделаем подсчет завершаемости.\n",
    "# Объединить таблицы, полученные выше по полю code_course\n",
    "\n",
    "success_count = pd.concat([with_exam[['id_student','code_presentation']], without_exam[['id_student','code_presentation']]])\\\n",
    "                        .groupby(['code_presentation'], as_index=False)\\\n",
    "                        .agg(success_count = ('id_student', 'nunique'))\n",
    "success_count.head(2)\n",
    "\n",
    "# Создание поля завершаемость = кол-во успешных экзаменов / кол-во всех попыток сдать экзамен\n",
    "df_all = all_count.merge(success_count, on = 'code_presentation')\n",
    "df_all['percent'] = df_all.success_count / df_all.all_count\n",
    "df_all.sort_values('percent')"
   ]
  },
  {
   "cell_type": "markdown",
   "metadata": {},
   "source": [
    "Семестр с самой низкой завершаемостью курсов 2013J"
   ]
  },
  {
   "cell_type": "code",
   "execution_count": 31,
   "metadata": {},
   "outputs": [
    {
     "data": {
      "text/html": [
       "<div>\n",
       "<style scoped>\n",
       "    .dataframe tbody tr th:only-of-type {\n",
       "        vertical-align: middle;\n",
       "    }\n",
       "\n",
       "    .dataframe tbody tr th {\n",
       "        vertical-align: top;\n",
       "    }\n",
       "\n",
       "    .dataframe thead th {\n",
       "        text-align: right;\n",
       "    }\n",
       "</style>\n",
       "<table border=\"1\" class=\"dataframe\">\n",
       "  <thead>\n",
       "    <tr style=\"text-align: right;\">\n",
       "      <th></th>\n",
       "      <th>id_assessment</th>\n",
       "      <th>id_student</th>\n",
       "      <th>date_submitted</th>\n",
       "      <th>is_banked</th>\n",
       "      <th>score</th>\n",
       "      <th>code_module</th>\n",
       "      <th>code_presentation</th>\n",
       "      <th>assessment_type</th>\n",
       "      <th>date</th>\n",
       "      <th>weight</th>\n",
       "      <th>code_course</th>\n",
       "    </tr>\n",
       "  </thead>\n",
       "  <tbody>\n",
       "    <tr>\n",
       "      <th>52924</th>\n",
       "      <td>24290</td>\n",
       "      <td>559706</td>\n",
       "      <td>234</td>\n",
       "      <td>0</td>\n",
       "      <td>78.0</td>\n",
       "      <td>CCC</td>\n",
       "      <td>2014B</td>\n",
       "      <td>Exam</td>\n",
       "      <td>NaN</td>\n",
       "      <td>100.0</td>\n",
       "      <td>CCC_2014B</td>\n",
       "    </tr>\n",
       "    <tr>\n",
       "      <th>52925</th>\n",
       "      <td>24290</td>\n",
       "      <td>559770</td>\n",
       "      <td>230</td>\n",
       "      <td>0</td>\n",
       "      <td>54.0</td>\n",
       "      <td>CCC</td>\n",
       "      <td>2014B</td>\n",
       "      <td>Exam</td>\n",
       "      <td>NaN</td>\n",
       "      <td>100.0</td>\n",
       "      <td>CCC_2014B</td>\n",
       "    </tr>\n",
       "    <tr>\n",
       "      <th>52926</th>\n",
       "      <td>24290</td>\n",
       "      <td>560114</td>\n",
       "      <td>230</td>\n",
       "      <td>0</td>\n",
       "      <td>64.0</td>\n",
       "      <td>CCC</td>\n",
       "      <td>2014B</td>\n",
       "      <td>Exam</td>\n",
       "      <td>NaN</td>\n",
       "      <td>100.0</td>\n",
       "      <td>CCC_2014B</td>\n",
       "    </tr>\n",
       "    <tr>\n",
       "      <th>52927</th>\n",
       "      <td>24290</td>\n",
       "      <td>560311</td>\n",
       "      <td>234</td>\n",
       "      <td>0</td>\n",
       "      <td>100.0</td>\n",
       "      <td>CCC</td>\n",
       "      <td>2014B</td>\n",
       "      <td>Exam</td>\n",
       "      <td>NaN</td>\n",
       "      <td>100.0</td>\n",
       "      <td>CCC_2014B</td>\n",
       "    </tr>\n",
       "    <tr>\n",
       "      <th>52928</th>\n",
       "      <td>24290</td>\n",
       "      <td>560494</td>\n",
       "      <td>230</td>\n",
       "      <td>0</td>\n",
       "      <td>92.0</td>\n",
       "      <td>CCC</td>\n",
       "      <td>2014B</td>\n",
       "      <td>Exam</td>\n",
       "      <td>NaN</td>\n",
       "      <td>100.0</td>\n",
       "      <td>CCC_2014B</td>\n",
       "    </tr>\n",
       "    <tr>\n",
       "      <th>...</th>\n",
       "      <td>...</td>\n",
       "      <td>...</td>\n",
       "      <td>...</td>\n",
       "      <td>...</td>\n",
       "      <td>...</td>\n",
       "      <td>...</td>\n",
       "      <td>...</td>\n",
       "      <td>...</td>\n",
       "      <td>...</td>\n",
       "      <td>...</td>\n",
       "      <td>...</td>\n",
       "    </tr>\n",
       "    <tr>\n",
       "      <th>95978</th>\n",
       "      <td>25368</td>\n",
       "      <td>652617</td>\n",
       "      <td>243</td>\n",
       "      <td>0</td>\n",
       "      <td>56.0</td>\n",
       "      <td>DDD</td>\n",
       "      <td>2014J</td>\n",
       "      <td>Exam</td>\n",
       "      <td>NaN</td>\n",
       "      <td>100.0</td>\n",
       "      <td>DDD_2014J</td>\n",
       "    </tr>\n",
       "    <tr>\n",
       "      <th>95980</th>\n",
       "      <td>25368</td>\n",
       "      <td>652680</td>\n",
       "      <td>243</td>\n",
       "      <td>0</td>\n",
       "      <td>91.0</td>\n",
       "      <td>DDD</td>\n",
       "      <td>2014J</td>\n",
       "      <td>Exam</td>\n",
       "      <td>NaN</td>\n",
       "      <td>100.0</td>\n",
       "      <td>DDD_2014J</td>\n",
       "    </tr>\n",
       "    <tr>\n",
       "      <th>95981</th>\n",
       "      <td>25368</td>\n",
       "      <td>652732</td>\n",
       "      <td>249</td>\n",
       "      <td>0</td>\n",
       "      <td>47.0</td>\n",
       "      <td>DDD</td>\n",
       "      <td>2014J</td>\n",
       "      <td>Exam</td>\n",
       "      <td>NaN</td>\n",
       "      <td>100.0</td>\n",
       "      <td>DDD_2014J</td>\n",
       "    </tr>\n",
       "    <tr>\n",
       "      <th>95982</th>\n",
       "      <td>25368</td>\n",
       "      <td>652965</td>\n",
       "      <td>242</td>\n",
       "      <td>0</td>\n",
       "      <td>87.0</td>\n",
       "      <td>DDD</td>\n",
       "      <td>2014J</td>\n",
       "      <td>Exam</td>\n",
       "      <td>NaN</td>\n",
       "      <td>100.0</td>\n",
       "      <td>DDD_2014J</td>\n",
       "    </tr>\n",
       "    <tr>\n",
       "      <th>95984</th>\n",
       "      <td>25368</td>\n",
       "      <td>653319</td>\n",
       "      <td>250</td>\n",
       "      <td>0</td>\n",
       "      <td>64.0</td>\n",
       "      <td>DDD</td>\n",
       "      <td>2014J</td>\n",
       "      <td>Exam</td>\n",
       "      <td>NaN</td>\n",
       "      <td>100.0</td>\n",
       "      <td>DDD_2014J</td>\n",
       "    </tr>\n",
       "  </tbody>\n",
       "</table>\n",
       "<p>4392 rows × 11 columns</p>\n",
       "</div>"
      ],
      "text/plain": [
       "       id_assessment  id_student  date_submitted  is_banked  score  \\\n",
       "52924          24290      559706             234          0   78.0   \n",
       "52925          24290      559770             230          0   54.0   \n",
       "52926          24290      560114             230          0   64.0   \n",
       "52927          24290      560311             234          0  100.0   \n",
       "52928          24290      560494             230          0   92.0   \n",
       "...              ...         ...             ...        ...    ...   \n",
       "95978          25368      652617             243          0   56.0   \n",
       "95980          25368      652680             243          0   91.0   \n",
       "95981          25368      652732             249          0   47.0   \n",
       "95982          25368      652965             242          0   87.0   \n",
       "95984          25368      653319             250          0   64.0   \n",
       "\n",
       "      code_module code_presentation assessment_type  date  weight code_course  \n",
       "52924         CCC             2014B            Exam   NaN   100.0   CCC_2014B  \n",
       "52925         CCC             2014B            Exam   NaN   100.0   CCC_2014B  \n",
       "52926         CCC             2014B            Exam   NaN   100.0   CCC_2014B  \n",
       "52927         CCC             2014B            Exam   NaN   100.0   CCC_2014B  \n",
       "52928         CCC             2014B            Exam   NaN   100.0   CCC_2014B  \n",
       "...           ...               ...             ...   ...     ...         ...  \n",
       "95978         DDD             2014J            Exam   NaN   100.0   DDD_2014J  \n",
       "95980         DDD             2014J            Exam   NaN   100.0   DDD_2014J  \n",
       "95981         DDD             2014J            Exam   NaN   100.0   DDD_2014J  \n",
       "95982         DDD             2014J            Exam   NaN   100.0   DDD_2014J  \n",
       "95984         DDD             2014J            Exam   NaN   100.0   DDD_2014J  \n",
       "\n",
       "[4392 rows x 11 columns]"
      ]
     },
     "execution_count": 31,
     "metadata": {},
     "output_type": "execute_result"
    }
   ],
   "source": [
    "# Для курсов с экзаменами: Объединить таблицы students и assessment по полю id_assessment\n",
    "# Сделаем вильтрацию по курсам, где есть экзамен; типу теста - экзамен и ученикам, чья оценка выше или равна 40\n",
    "with_exam = students.merge(assessment, on = 'id_assessment')\\\n",
    "                .query(\"code_course in ('DDD_2013B','CCC_2014J','DDD_2014J','CCC_2014B','DDD_2013J','DDD_2014B')\")\\\n",
    "                .query(\"assessment_type == 'Exam'\")\\\n",
    "                .query(\"score >= 40\")\n",
    "with_exam"
   ]
  },
  {
   "cell_type": "code",
   "execution_count": 32,
   "metadata": {},
   "outputs": [
    {
     "data": {
      "text/html": [
       "<div>\n",
       "<style scoped>\n",
       "    .dataframe tbody tr th:only-of-type {\n",
       "        vertical-align: middle;\n",
       "    }\n",
       "\n",
       "    .dataframe tbody tr th {\n",
       "        vertical-align: top;\n",
       "    }\n",
       "\n",
       "    .dataframe thead th {\n",
       "        text-align: right;\n",
       "    }\n",
       "</style>\n",
       "<table border=\"1\" class=\"dataframe\">\n",
       "  <thead>\n",
       "    <tr style=\"text-align: right;\">\n",
       "      <th></th>\n",
       "      <th>id_student</th>\n",
       "      <th>code_course</th>\n",
       "      <th>code_presentation</th>\n",
       "      <th>date_submitted</th>\n",
       "    </tr>\n",
       "  </thead>\n",
       "  <tbody>\n",
       "  </tbody>\n",
       "</table>\n",
       "</div>"
      ],
      "text/plain": [
       "Empty DataFrame\n",
       "Columns: [id_student, code_course, code_presentation, date_submitted]\n",
       "Index: []"
      ]
     },
     "execution_count": 32,
     "metadata": {},
     "output_type": "execute_result"
    }
   ],
   "source": [
    "# Для курсов без экзаменов: объединим таблицы students и assessment по полю id_assessment\n",
    "# Отфильтруем по курсам, где нет экзамена\n",
    "# Сделаем группировку по студентам и курсам для подсчета суммы весов теста и выбор только тех, у кого пройдены все (суммированный вес равен 100)\n",
    "# Объединим с таблицами students и assessment и удаление столбца с суммированным весами, чтобы избежать дубликата названия столбца и за отсутствием необходимости в нем далее\n",
    "\n",
    "without_exam = students.merge(assessment, on = 'id_assessment')\\\n",
    "                .query(\"code_course not in ('DDD_2013B','CCC_2014J','DDD_2014J','CCC_2014B','DDD_2013J','DDD_2014B')\")\\\n",
    "                .groupby(['id_student','code_course'], as_index = False)\\\n",
    "                .agg({'weight':'sum'})\\\n",
    "                .query(\"weight == '100'\")\\\n",
    "                .drop(columns = 'weight')\\\n",
    "                .merge(students.merge(assessment, on = 'id_assessment'), on = ['id_student','code_course'])\n",
    "\n",
    "# Подсчет столбца с оценкой в соответствии с весами + приводем веса к десятичному виду дроби\n",
    "without_exam['weight_score'] = without_exam['score'] * without_exam['weight'] / 100\n",
    "\n",
    "# Группировка по студентам, курсам и суммируем баллы скорректированные по весам \n",
    "# Фильтруем тех студентов, чья оценка выше или равна 40\n",
    "without_exam = without_exam\\\n",
    "                    .groupby(['id_student','code_course'], as_index = False)\\\n",
    "                    .agg({'weight_score':'sum'})\\\n",
    "                    .query(\"weight_score >= 40\")\n",
    "# Снова объединеняем с таблицами studentAssessment и assessments\n",
    "# Группировка по студентам, курсам и семестру (для использования в итоговых подсчетах) и подсчитываем средние сроки сдачи тестов для каждого студента\n",
    "without_exam = without_exam\\\n",
    "                .merge(students.merge(assessment, on = 'id_assessment'), on = ['id_student','code_course'])\\\n",
    "                .groupby(['id_student','code_course','code_presentation'], as_index = False)\\\n",
    "                .agg({'date_submitted':'median'})\n",
    "\n",
    "without_exam"
   ]
  },
  {
   "cell_type": "code",
   "execution_count": 33,
   "metadata": {},
   "outputs": [
    {
     "data": {
      "text/html": [
       "<div>\n",
       "<style scoped>\n",
       "    .dataframe tbody tr th:only-of-type {\n",
       "        vertical-align: middle;\n",
       "    }\n",
       "\n",
       "    .dataframe tbody tr th {\n",
       "        vertical-align: top;\n",
       "    }\n",
       "\n",
       "    .dataframe thead th {\n",
       "        text-align: right;\n",
       "    }\n",
       "</style>\n",
       "<table border=\"1\" class=\"dataframe\">\n",
       "  <thead>\n",
       "    <tr style=\"text-align: right;\">\n",
       "      <th></th>\n",
       "      <th>code_presentation</th>\n",
       "      <th>date_submitted</th>\n",
       "    </tr>\n",
       "  </thead>\n",
       "  <tbody>\n",
       "    <tr>\n",
       "      <th>3</th>\n",
       "      <td>2014J</td>\n",
       "      <td>244.0</td>\n",
       "    </tr>\n",
       "    <tr>\n",
       "      <th>1</th>\n",
       "      <td>2013J</td>\n",
       "      <td>241.0</td>\n",
       "    </tr>\n",
       "    <tr>\n",
       "      <th>2</th>\n",
       "      <td>2014B</td>\n",
       "      <td>234.0</td>\n",
       "    </tr>\n",
       "    <tr>\n",
       "      <th>0</th>\n",
       "      <td>2013B</td>\n",
       "      <td>230.0</td>\n",
       "    </tr>\n",
       "  </tbody>\n",
       "</table>\n",
       "</div>"
      ],
      "text/plain": [
       "  code_presentation  date_submitted\n",
       "3             2014J           244.0\n",
       "1             2013J           241.0\n",
       "2             2014B           234.0\n",
       "0             2013B           230.0"
      ]
     },
     "execution_count": 33,
     "metadata": {},
     "output_type": "execute_result"
    }
   ],
   "source": [
    "# Объединим два полученных датафрейма, оставляя только стобцы с семестром и сроком сдачи\n",
    "# Сгруппируем по семестру и подсчитываем средний срок сдачи для каждого семестра\n",
    "pd.concat([with_exam[['date_submitted','code_presentation']], without_exam[['date_submitted','code_presentation']]])\\\n",
    "            .groupby('code_presentation', as_index=False)\\\n",
    "            .agg({'date_submitted':'median'})\\\n",
    "            .sort_values('date_submitted', ascending = False)"
   ]
  },
  {
   "cell_type": "markdown",
   "metadata": {},
   "source": [
    "Семестр с самыми долгими средними сроками сдачи курсов 2014J"
   ]
  },
  {
   "cell_type": "markdown",
   "metadata": {},
   "source": [
    "### 7. Проведение RFM-анализа"
   ]
  },
  {
   "cell_type": "markdown",
   "metadata": {},
   "source": [
    "Для проведения RFM-анализа необходимо определить, какие данные будут использоваться. В данном контексте выделяются следующие ключевые моменты:\n",
    "\n",
    "1. Общее количество студентов:\n",
    "    Всего зарегистрированных уникальных студентов: **28,755**.\n",
    "\n",
    "2. У нас неполные данные:\n",
    "   Доступна информация о сдаче экзаменов только по предметам **CCC** и **DDD**.\n",
    "\n",
    "3. Подходы к RFM-анализу:\n",
    "   Первый подход:\n",
    "    Предположить, что средняя оценка за тесты примерно равна средней оценке за экзамены.\n",
    "    В этом случае следует анализировать результаты сдачи тестов всех студентов.\n",
    "    Цель: выделить конкретные группы студентов с высокими показателями, следует использовать\n",
    "     \n",
    "   Второй подход:\n",
    "    Рассматривать результаты по предметам **CCC** и **DDD** как репрезентативные для всей совокупности студентов.\n",
    "    Этот вариант более подходит, если цель состоит в разделении студентов на группы и понимании структуры потоков.\n",
    "     Цель:необходимо получить общее представление о всех потоках студентов, лучше подойдет\n",
    "\n",
    "4. Анализ зависимости:\n",
    "   Первым шагом будет исследование связи между оценками за тесты и оценками за экзамены, используя данные только по предметам **CCC** и **DDD**, так как отсутствует информация о других предметах.\n",
    "   "
   ]
  },
  {
   "cell_type": "code",
   "execution_count": 34,
   "metadata": {},
   "outputs": [
    {
     "name": "stdout",
     "output_type": "stream",
     "text": [
      "Количество студентов с тестами >= 40 и экзаменами < 40: 507\n"
     ]
    }
   ],
   "source": [
    "# Объединяем таблицы tests и students по полю 'id_assessment' с использованием внутреннего соединения\n",
    "stat = tests.merge(students, how='inner', on='id_assessment')\n",
    "\n",
    "# Фильтруем данные по коду модуля и оценке, создаем новый DataFrame\n",
    "cd = tests.merge(students, how='inner', on='id_assessment')\\\n",
    "          .query('code_module==\"CCC\" or code_module==\"DDD\"')\n",
    "\n",
    "# Получаем средние оценки для тестов (не экзаменов) по каждому студенту\n",
    "H1 = stat.query('assessment_type!=\"Exam\" and (code_module==\"CCC\" or code_module==\"DDD\")')\\\n",
    "         .groupby('id_student', as_index=False)\\\n",
    "         .agg({'score': 'mean'})\n",
    "\n",
    "# Получаем максимальные оценки для экзаменов по каждому студенту\n",
    "H2 = stat.query('assessment_type==\"Exam\" and (code_module==\"CCC\" or code_module==\"DDD\")')\\\n",
    "         .groupby('id_student', as_index=False)\\\n",
    "         .agg({'score': 'max'})\n",
    "\n",
    "# ООбъединяем 2 DataFrame H1 и H2 по 'id_student', переименовываем колонки\n",
    "H = H1.merge(H2, how='inner', on='id_student')\\\n",
    "      .rename(columns={'score_x': 'tests', 'score_y': 'exams'})\n",
    "\n",
    "# Фильтруем студентов, у которых оценки тестов >= 40 и экзаменов < 40\n",
    "filtered_results = H.query(\"tests>=40 and exams<40\")\n",
    "\n",
    "print(f'Количество студентов с тестами >= 40 и экзаменами < 40: {filtered_results.shape[0]}')"
   ]
  },
  {
   "cell_type": "code",
   "execution_count": 35,
   "metadata": {},
   "outputs": [
    {
     "name": "stderr",
     "output_type": "stream",
     "text": [
      "C:\\Users\\Настя\\AppData\\Local\\Temp\\ipykernel_21960\\807328467.py:2: UserWarning: \n",
      "\n",
      "`distplot` is a deprecated function and will be removed in seaborn v0.14.0.\n",
      "\n",
      "Please adapt your code to use either `displot` (a figure-level function with\n",
      "similar flexibility) or `histplot` (an axes-level function for histograms).\n",
      "\n",
      "For a guide to updating your code to use the new functions, please see\n",
      "https://gist.github.com/mwaskom/de44147ed2974457ad6372750bbe5751\n",
      "\n",
      "  ax = sns.distplot(H['tests'], label='tests')  # График распределения оценок тестов\n",
      "C:\\Users\\Настя\\AppData\\Local\\Temp\\ipykernel_21960\\807328467.py:3: UserWarning: \n",
      "\n",
      "`distplot` is a deprecated function and will be removed in seaborn v0.14.0.\n",
      "\n",
      "Please adapt your code to use either `displot` (a figure-level function with\n",
      "similar flexibility) or `histplot` (an axes-level function for histograms).\n",
      "\n",
      "For a guide to updating your code to use the new functions, please see\n",
      "https://gist.github.com/mwaskom/de44147ed2974457ad6372750bbe5751\n",
      "\n",
      "  ax = sns.distplot(H['exams'], label='exams')  # График распределения оценок экзаменов\n"
     ]
    },
    {
     "data": {
      "image/png": "[encoded data removed]",
      "text/plain": [
       "<Figure size 640x480 with 1 Axes>"
      ]
     },
     "metadata": {},
     "output_type": "display_data"
    }
   ],
   "source": [
    "# Строим график распределения оценок тестов и экзаменов\n",
    "ax = sns.distplot(H['tests'], label='tests')  # График распределения оценок тестов\n",
    "ax = sns.distplot(H['exams'], label='exams')  # График распределения оценок экзаменов\n",
    "ax.set_xlabel('Оценка')  # Подпись оси X\n",
    "ax.set_ylabel('Количество студентов')  # Подпись оси Y\n",
    "plt.legend()  # Отображение легенды\n",
    "plt.show()  # Показать график\n"
   ]
  },
  {
   "cell_type": "code",
   "execution_count": 36,
   "metadata": {},
   "outputs": [
    {
     "data": {
      "text/plain": [
       "'В выборке с результатами тестов 4630 значений, среднее равняется 74.86, стандартное отклонение 14.32, стандартная ошибка выборки 0.21. Доверительный интервал среднего равняется (np.float64(74.3188527147114), np.float64(75.4011472852886))'"
      ]
     },
     "metadata": {},
     "output_type": "display_data"
    },
    {
     "data": {
      "text/plain": [
       "'В выборке с результатами экзаменов среднее равняется 65.6, стандартное отклонение 20.66, стандартная ошибка выборки 0.3. Доверительный интервал среднего равняется (np.float64(64.82693244958772), np.float64(66.37306755041227))'"
      ]
     },
     "metadata": {},
     "output_type": "display_data"
    }
   ],
   "source": [
    "# Рассчитываем среднее значение тестов и округляется до двух знаков\n",
    "a = H.tests.mean().round(2)\n",
    "\n",
    "# Рассчитываем стандартное отклонение тестов и округляется до двух знаков\n",
    "b = H.tests.std().round(2)\n",
    "\n",
    "# Рассчитываем стандартная ошибка выборки тестов и округляется до двух знаков\n",
    "c = H.tests.sem().round(2)\n",
    "\n",
    "# Определяем количество значений в выборке\n",
    "d = H.shape[0]\n",
    "\n",
    "# Рассчитываем доверительный интервал среднего тестов\n",
    "e = st.t.interval(confidence=0.99, df=d-1, loc=a, scale=c)\n",
    "\n",
    "\n",
    "display(f'В выборке с результатами тестов {d} значений, среднее равняется {a}, '\n",
    "      f'стандартное отклонение {b}, стандартная ошибка выборки {c}. '\n",
    "      f'Доверительный интервал среднего равняется {e}')\n",
    "\n",
    "# Рассчитываем среднее значение экзаменов и округляется до двух знаков\n",
    "f = H.exams.mean().round(2)\n",
    "\n",
    "# Рассчитываем стандартное отклонение экзаменов и округляется до двух знаков\n",
    "g = H.exams.std().round(2)\n",
    "\n",
    "# Рассчитываем стандартная ошибка выборки экзаменов и округляется до двух знаков\n",
    "k = H.exams.sem().round(2)\n",
    "\n",
    "# Рассчитываем доверительный интервал среднего экзаменов\n",
    "l = st.t.interval(confidence=0.99, df=d-1, loc=f, scale=k)  \n",
    "\n",
    "\n",
    "display(f'В выборке с результатами экзаменов среднее равняется {f}, '\n",
    "      f'стандартное отклонение {g}, стандартная ошибка выборки {k}. '\n",
    "      f'Доверительный интервал среднего равняется {l}')\n"
   ]
  },
  {
   "cell_type": "markdown",
   "metadata": {},
   "source": [
    "ВЫВОД: \n",
    "\n",
    "В таблице, сравнивающей результаты тестов и экзаменов, было зафиксировано 4,630 студентов. Из них 507 студентов, имея среднюю оценку по тестам выше 40 баллов, получили оценку по экзамену ниже 40 баллов. Это составляет 11% от общего числа студентов в выборке.\n",
    "\n",
    "Графическое представление данных также показывает значительное различие в распределении и величине оценок: экзамены представлены блекло-оранжевым цветом, а тесты — синим. Среднее значение по тестам превышает среднее значение по экзаменам на 9,26 балла.\n",
    "\n",
    "Эти результаты указывают на высокую вероятность того, что студенты, не сдавшие экзамен или не способные его сдать, могут быть ошибочно классифицированы как сдавшие. На основе вышеуказанных показателей я отказываюсь от гипотезы о том, что оценки за тесты могут быть связаны с оценками за экзамены. Следовательно, заменять одни данные другими в RFM-анализе нецелесообразно."
   ]
  },
  {
   "cell_type": "markdown",
   "metadata": {},
   "source": [
    "<hr>"
   ]
  },
  {
   "cell_type": "markdown",
   "metadata": {},
   "source": [
    "Теперь проверим вторую гипотезу: выборка по предметам **DDD** и **CCC** является репрезентативной, и ее результаты можно распространить на всю совокупность. Для этого сделаю следующее:\n",
    "\n",
    "Используем только данные по тестам. \n",
    "Генеральная совокупность представлена в таблице **stat**, а выборка (по предметам CCC и DDD) — в таблице **cd**.\n"
   ]
  },
  {
   "cell_type": "code",
   "execution_count": 37,
   "metadata": {},
   "outputs": [
    {
     "data": {
      "text/plain": [
       "<Axes: xlabel='score', ylabel='Count'>"
      ]
     },
     "execution_count": 37,
     "metadata": {},
     "output_type": "execute_result"
    },
    {
     "data": {
      "image/png": "[encoded data removed]",
      "text/plain": [
       "<Figure size 640x480 with 1 Axes>"
      ]
     },
     "metadata": {},
     "output_type": "display_data"
    }
   ],
   "source": [
    "sns.histplot(data=stat, x=\"score\")"
   ]
  },
  {
   "cell_type": "code",
   "execution_count": 38,
   "metadata": {},
   "outputs": [
    {
     "data": {
      "text/plain": [
       "'В выборке по всем предметам 173912 значений, среднее равняется 75.8, стандартное отклонение 18.8, стандартная ошибка выборки 0.05. Доверительный интервал среднего равняется (np.float64(75.6712071212839), np.float64(75.9287928787161))'"
      ]
     },
     "metadata": {},
     "output_type": "display_data"
    },
    {
     "data": {
      "text/plain": [
       "'В выборке по предметам CD 49804 значений, среднее равняется 71.3,стандартное отклонение 21.11, стандартная ошибка выборки 0.09.]Доверительный интервал среднего равняется (np.float64(71.06816647756825), np.float64(71.53183352243174))'"
      ]
     },
     "metadata": {},
     "output_type": "display_data"
    }
   ],
   "source": [
    "# Рассчитываем среднее значение для всех предметов и округляется до двух знаков\n",
    "a = stat.score.mean().round(2)\n",
    "\n",
    "# Рассчитываем стандартное отклонение для всех предметов и округляется до двух знаков\n",
    "b = stat.score.std().round(2)\n",
    "\n",
    "# Рассчитываем стандартная ошибка выборки для всех предметов и округляется до двух знаков\n",
    "c = stat.score.sem().round(2)\n",
    "\n",
    "# Определяем количество значений в выборке по всем предметам\n",
    "d = len(stat)\n",
    "\n",
    "# Рассчитываем доверительный интервал среднего для всех предметов\n",
    "e = st.t.interval(confidence=0.99, df=d-1, loc=a, scale=c)\n",
    "\n",
    "\n",
    "display(f'В выборке по всем предметам {d} значений, среднее равняется {a}, '\n",
    "      f'стандартное отклонение {b}, стандартная ошибка выборки {c}. '\n",
    "      f'Доверительный интервал среднего равняется {e}')\n",
    "\n",
    "# Рассчитываем среднее значение для предметов CD и округляется до двух знаков\n",
    "f = cd.score.mean().round(2)\n",
    "\n",
    "# Рассчитываем стандартное отклонение для предметов CD и округляется до двух знаков\n",
    "g = cd.score.std().round(2)\n",
    "\n",
    "# Рассчитываем стандартная ошибка выборки для предметов CD и округляется до двух знаков\n",
    "k = cd.score.sem().round(2)\n",
    "\n",
    "# Определяем количество значений в выборке по предметам CD\n",
    "m = len(cd)\n",
    "\n",
    "# Рассчитываем доверительный интервал среднего для предметов CD\n",
    "l = st.t.interval(confidence=0.99, df=m-1, loc=f, scale=k) \n",
    "\n",
    "\n",
    "display(f'В выборке по предметам CD {m} значений, среднее равняется {f},'\n",
    "      f'стандартное отклонение {g}, стандартная ошибка выборки {k}.]'\n",
    "      f'Доверительный интервал среднего равняется {l}')\n"
   ]
  },
  {
   "cell_type": "markdown",
   "metadata": {},
   "source": [
    "\n",
    "Вывод:\n",
    "При построении графиков можно заметить, что распределение оценок близко к нормальному. Однако имеются значительные выбросы на значениях, кратных **20**, что может указывать на вмешательство человека в распределение оценок.  \n",
    "Оценив статистические показатели, обнажили, что среднее значение в выборке ниже, чем среднее по общей совокупности, на **5,48**.  \n",
    "Это свидетельствует о том, что студенты, не сдавшие экзамен, не будут ошибочно учтены как сдавшие.  \n",
    "В целом показатели более сопоставимы, чем в первом варианте.  \n",
    "\n",
    "Исходя из этого, нужно сосредоточиться на исследовании выборки по предметам **CCC** и **DDD**.  \n",
    "Таким образом, целью RFM-анализа станет выявление структуры студентов по группам и формирование списка лучших студентов по модулям **CCC** и **DDD**."
   ]
  },
  {
   "cell_type": "markdown",
   "metadata": {},
   "source": [
    "<hr>"
   ]
  },
  {
   "cell_type": "markdown",
   "metadata": {},
   "source": [
    "**Теперь приступим к проведению самого RFM-анализа**\n",
    "\n",
    "В качестве показателя **Monetary** возьмем среднее количество баллов, получаемое за экзамен.  \n",
    "Для расчета **M** (среднего количества баллов за экзамен) возьмем максимальный балл, полученный каждым студентом при сдаче экзамена.  \n",
    "Добавлено условие, которое исключает перезачеты. Однако это условие не обязательно, так как по экзаменам перезачетов не наблюдается (это было проверено).\n",
    "\n",
    "Далее, используя показатель **M**, найдем квинтили и присвоим каждой оценке соответствующий ранг в зависимости от принадлежности к определенному квинтилю.   \n",
    "Поскольку по показателю **M** чем выше значение, тем лучше, квинтили будут определены следующим образом:  \n",
    "\n",
    "Первый квинтиль (0-20%): от 0 до 47 баллов — оценка 1  \n",
    "Второй квинтиль (21-40%): от 48 до 60 баллов — оценка 2   \n",
    "Третий квинтиль (41-60%): от 61 до 73 баллов — оценка 3  \n",
    "Четвертый квинтиль (61-80%): от 74 до 86 баллов — оценка 4    \n",
    "Пятый квинтиль (81-100%): от 87 до 100 баллов — оценка 5 "
   ]
  },
  {
   "cell_type": "code",
   "execution_count": 39,
   "metadata": {},
   "outputs": [
    {
     "name": "stdout",
     "output_type": "stream",
     "text": [
      "Получены максимальные баллы для 4633 студентов.\n"
     ]
    }
   ],
   "source": [
    "# Объединяем данные студентов и экзаменов по идентификатору оценки с фильтрацией по статусу 'is_banked'\n",
    "M = students.merge(exams, how='inner', on='id_assessment').query('is_banked==0')\n",
    "\n",
    "# Группируем  данные по идентификатору студента, чтобы получить максимальный балл для каждого студента\n",
    "scores = M.groupby('id_student', as_index=False).agg({'score': 'max'})\n",
    "\n",
    "print(f'Получены максимальные баллы для {len(scores)} студентов.')\n"
   ]
  },
  {
   "cell_type": "code",
   "execution_count": 40,
   "metadata": {},
   "outputs": [
    {
     "name": "stdout",
     "output_type": "stream",
     "text": [
      "Количество студентов в каждой группе:\n",
      "M\n",
      "1    1000\n",
      "3     963\n",
      "2     934\n",
      "5     908\n",
      "4     828\n",
      "Name: count, dtype: int64\n"
     ]
    }
   ],
   "source": [
    "# Рассчитываем квантели для столбца 'score' и сохраняются в словаре\n",
    "quintilesM = scores['score'].quantile([.2, .4, .6, .8]).to_dict()\n",
    "\n",
    "# Определяем функция для классификации оценок на основе квантилей\n",
    "def m_score(x):\n",
    "    if x <= quintilesM[.2]:\n",
    "        return 1  # 1-я группа (наименьшие оценки)\n",
    "    elif x <= quintilesM[.4]:\n",
    "        return 2  # 2-я группа\n",
    "    elif x <= quintilesM[.6]:\n",
    "        return 3  # 3-я группа\n",
    "    elif x <= quintilesM[.8]:\n",
    "        return 4  # 4-я группа\n",
    "    else:\n",
    "        return 5  # 5-я группа (наивысшие оценки)\n",
    "\n",
    "# Применяем функция m_score к столбцу 'score' для создания нового столбца 'M'\n",
    "scores['M'] = scores['score'].apply(lambda x: m_score(x))\n",
    "\n",
    "\n",
    "print(f'Количество студентов в каждой группе:\\n{scores[\"M\"].value_counts()}')\n"
   ]
  },
  {
   "cell_type": "markdown",
   "metadata": {},
   "source": [
    "В качестве **R-оценки** возьмем количество дней просрочки сдачи зачетов. Этот показатель является более общим, так как отражает не только внешнюю дисциплину (как студент ведет себя под контролем), но и внутреннюю (насколько он способен выполнять задачи в срок без непосредственного контроля).\n",
    "\n",
    " Для каждого студента вычмслим количество дней опозданий по срокам сдачи тестов и экзаменов, а затем суммируем эти дни.\n",
    "\n",
    " Аналогично показателю **M**, рассчитаем квинтили и присвоим оценки по следующей шкале:  \n",
    "\n",
    "Первый квинтиль (0-20%): без опозданий — оценка 5    \n",
    "Второй квинтиль (21-40%): общие опоздания до 1 дня — оценка 4    \n",
    "Третий квинтиль (41-60%): общие опоздания от 2 до 8 дней — оценка 3    \n",
    "Четвертый квинтиль (61-80%): общие опоздания от 9 до 18 дней — оценка 2    \n",
    "Пятый квинтиль (81-100%): общие опоздания свыше 19 дней — оценка 1 \n",
    "\n"
   ]
  },
  {
   "cell_type": "code",
   "execution_count": 41,
   "metadata": {},
   "outputs": [
    {
     "name": "stdout",
     "output_type": "stream",
     "text": [
      "       id_student  delay  R\n",
      "0            6516    0.0  5\n",
      "1            8462    4.0  3\n",
      "2           11391    0.0  5\n",
      "3           23629   24.0  1\n",
      "4           23698   13.0  2\n",
      "...           ...    ... ..\n",
      "23304     2698251    0.0  5\n",
      "23305     2698257   10.0  2\n",
      "23306     2698535   18.0  2\n",
      "23307     2698577    0.0  5\n",
      "23308     2698588    1.0  4\n",
      "\n",
      "[23309 rows x 3 columns]\n"
     ]
    }
   ],
   "source": [
    "# Объединяем таблицы tests и students для получения информации о студентах и тестах\n",
    "passing = tests.merge(students, how='right', on='id_assessment').query('is_banked==0')\n",
    "\n",
    "# Вычисляем задержки между датой сдачи и датой теста\n",
    "passing = passing.assign(delay=passing.date_submitted - passing.date)\n",
    "\n",
    "# Заменяем отрицательные значения задержки на 0\n",
    "passing['delay'] = passing['delay'].apply(lambda x: max(x, 0))\n",
    "\n",
    "# Группируем данные по студентам и суммируем задержки\n",
    "passing = passing.groupby('id_student', as_index=False).agg({'delay': 'sum'})\n",
    "\n",
    "# Вычисляем квантили для задержки\n",
    "quintilesR = passing['delay'].quantile([.2, .4, .6, .8]).to_dict()\n",
    "\n",
    "# Функция для вычисления R-оценки на основе задержки\n",
    "def r_score(x):\n",
    "    if x <= quintilesR[.2]:\n",
    "        return 5\n",
    "    elif x <= quintilesR[.4]:\n",
    "        return 4\n",
    "    elif x <= quintilesR[.6]:\n",
    "        return 3\n",
    "    elif x <= quintilesR[.8]:\n",
    "        return 2\n",
    "    else:\n",
    "        return 1\n",
    "\n",
    "# Применяем функцию r_score для вычисления R-оценки\n",
    "passing['R'] = passing['delay'].apply(lambda x: r_score(x))\n",
    "\n",
    "print(passing[['id_student', 'delay', 'R']])\n"
   ]
  },
  {
   "cell_type": "markdown",
   "metadata": {},
   "source": [
    "Показатель **F** будет учитывать повторяемость регистраций. В качестве **F** возьмем количество регистраций на различные курсы одним и тем же студентом. Это отражает уровень настойчивости в овладении знаниями (при повторной регистрации на один и тот же курс) или стремление к развитию (при регистрации на разные курсы).\n",
    "\n",
    "Количество уникальных значений регистраций равно четырем, поэтому рассчитывать квинтили и создавать пятибалльную систему оценок нецелесообразно.  \n",
    "Все значения ноль (где количество отмены регистрации равно количеству регистраций) будут исключены.  \n",
    "После исключения значений ноль остаются три значения, которым присваиваются следующие оценки:\n",
    "\n",
    "Если количество регистраций на один больше, чем отмен, (студент обучался до конца на одном курсе) — оценка 1\n",
    "Если количество регистраций на два больше, чем отмен (студент обучался до конца на двух курсах) — оценка 2\n",
    "Если количество регистраций на три больше, чем отмен (студент обучался до конца на трех курсах) — оценка 3\n",
    "\n",
    "-Несмотря на то что оценка соответствует значению **persist**, выделим ее в отдельный столбец для ясности и удобства анализа.\n",
    "\n",
    "Теперь перейдем к расчётам по показателю **F** и присвоим соответствующие оценки оставшимся значениям."
   ]
  },
  {
   "cell_type": "code",
   "execution_count": 42,
   "metadata": {},
   "outputs": [
    {
     "name": "stdout",
     "output_type": "stream",
     "text": [
      "       id_student  date_registration  date_unregistration  persist  F\n",
      "1            6516                  1                    0        1  1\n",
      "3           11391                  1                    0        1  1\n",
      "4           23629                  1                    0        1  1\n",
      "6           23698                  1                    0        1  1\n",
      "7           23798                  1                    0        1  1\n",
      "...           ...                ...                  ...      ... ..\n",
      "28772     2698251                  1                    0        1  1\n",
      "28773     2698257                  1                    0        1  1\n",
      "28774     2698535                  2                    1        1  1\n",
      "28775     2698577                  1                    0        1  1\n",
      "28776     2698588                  1                    0        1  1\n",
      "\n",
      "[21185 rows x 5 columns]\n"
     ]
    }
   ],
   "source": [
    "# Удаляем строки с пропущенными значениями в столбце date_registration\n",
    "registration = registration.dropna(subset=['date_registration'])\n",
    "\n",
    "# Группируем данные по идентификатору студента и считаем количество регистраций и аннулирований\n",
    "repeat = registration.groupby('id_student', as_index=False)\\\n",
    "                     .agg({'date_registration': 'count', 'date_unregistration': 'count'})\n",
    "\n",
    "# Вычисляем разницу между регистрациями и аннулированием\n",
    "repeat['persist'] = repeat.date_registration - repeat.date_unregistration\n",
    "\n",
    "# Фильтруем студентов с положительным значением persist\n",
    "repeat = repeat.query('persist > 0')\n",
    "\n",
    "# Функция для вычисления F-оценки на основе значения persist\n",
    "def f_score(x):\n",
    "    if x == 1:\n",
    "        return 1\n",
    "    elif x == 2:\n",
    "        return 2\n",
    "    else:\n",
    "        return 3\n",
    "\n",
    "# Применяем функцию f_score для вычисления F-оценки\n",
    "repeat['F'] = repeat['persist'].apply(lambda x: f_score(x))\n",
    "\n",
    "# Выводим результаты\n",
    "print(repeat[['id_student', 'date_registration', 'date_unregistration', 'persist', 'F']])\n"
   ]
  },
  {
   "cell_type": "markdown",
   "metadata": {},
   "source": [
    "Теперь объединим таблицы с показателями **RFM** и присвоенными оценками, а затем ввыведем общую оценку в виде трехзначного числа. \n",
    "Формируем общую оценку, где:  \n",
    "Число сотен соответствует оценке **R**  \n",
    "Число десятков соответствует оценке **F**  \n",
    "Число единиц соответствует оценке **M**"
   ]
  },
  {
   "cell_type": "code",
   "execution_count": 43,
   "metadata": {},
   "outputs": [
    {
     "name": "stdout",
     "output_type": "stream",
     "text": [
      "Количество уникальных RFM_score: 47\n"
     ]
    }
   ],
   "source": [
    "# Объединяем данные о метриках R, F и M в один DataFrame\n",
    "rfm = scores.merge(passing, how='inner', on='id_student')  # Объединение с метрикой R\n",
    "rfm = rfm.merge(repeat, how='inner', on='id_student')      # Объединение с метрикой F\n",
    "\n",
    "# Создаем RFM_score, конкатенируя значения R, F и M\n",
    "rfm['RFM_score'] = rfm['R'].map(str) + rfm['F'].map(str) + rfm['M'].map(str)\n",
    "\n",
    "# Получаем количество уникальных RFM_score\n",
    "unique_rfm_scores = rfm.RFM_score.nunique()\n",
    "\n",
    "# Выводим количество уникальных RFM_score\n",
    "print(f'Количество уникальных RFM_score: {unique_rfm_scores}')\n"
   ]
  },
  {
   "cell_type": "markdown",
   "metadata": {},
   "source": [
    "В результате этого объединения получается **47** различных групп из общего числа **4,632** отобранных студентов.\n",
    "\n",
    "Теперь можно проанализировать, какие группы студентов были сформированы на основе полученных RFM-оценок."
   ]
  },
  {
   "cell_type": "markdown",
   "metadata": {},
   "source": [
    "<hr>"
   ]
  },
  {
   "cell_type": "markdown",
   "metadata": {},
   "source": [
    "Ранжирование завершено, и теперь можно отбирать конкретных студентов, которые могут быть рекомендованы работодателям. Можно взять следующие критерии для отбора:\n",
    "\n",
    "**Показатель M**: должен быть равен **5** (самые успешные результаты по экзаменам)  \n",
    "**Показатель R**: должен быть больше **3** (студенты, которые почти не задерживали сдачу зачетов и экзаменов, в сумме не более одного дня)  \n",
    "**Показатель F**: используется только для характеристики групп, поэтому будет применяться как дополнительный фильтр  "
   ]
  },
  {
   "cell_type": "code",
   "execution_count": 44,
   "metadata": {},
   "outputs": [
    {
     "name": "stdout",
     "output_type": "stream",
     "text": [
      "Количество студентов по RFM_score, где M==5, F>0 и R>3:\n",
      "  RFM_score  size\n",
      "0       415    10\n",
      "1       515   225\n"
     ]
    }
   ],
   "source": [
    "# Фильтруем данные, выбирая студентов с RFM_score, где M==5, F>0 и R>3,\n",
    "# и группируем результаты по RFM_score, подсчитывая количество записей в каждой группе\n",
    "grouped_rfm = rfm.query('M==5 and F>0 and R>3').groupby('RFM_score', as_index=False).size()\n",
    "\n",
    "# Выводим результаты группировки\n",
    "print(f\"Количество студентов по RFM_score, где M==5, F>0 и R>3:\\n{grouped_rfm}\")\n",
    "\n"
   ]
  },
  {
   "cell_type": "code",
   "execution_count": 45,
   "metadata": {},
   "outputs": [
    {
     "name": "stdout",
     "output_type": "stream",
     "text": [
      "\n",
      "Записи для RFM_score '515' или '415':\n",
      "      id_student  score  M  delay  R  date_registration  date_unregistration  \\\n",
      "18         40184  100.0  5    0.0  5                  1                    0   \n",
      "29         50476   87.0  5    0.0  5                  1                    0   \n",
      "83         88490   96.0  5    0.0  5                  1                    0   \n",
      "115       117281   87.0  5    0.0  5                  1                    0   \n",
      "128       127580   91.0  5    0.0  5                  1                    0   \n",
      "...          ...    ... ..    ... ..                ...                  ...   \n",
      "4481     2516939   87.0  5    0.0  5                  1                    0   \n",
      "4518     2569416   91.0  5    0.0  5                  1                    0   \n",
      "4523     2581779   87.0  5    0.0  5                  1                    0   \n",
      "4535     2595730   89.0  5    0.0  5                  2                    1   \n",
      "4588     2659530   87.0  5    0.0  5                  1                    0   \n",
      "\n",
      "      persist  F RFM_score  \n",
      "18          1  1       515  \n",
      "29          1  1       515  \n",
      "83          1  1       515  \n",
      "115         1  1       515  \n",
      "128         1  1       515  \n",
      "...       ... ..       ...  \n",
      "4481        1  1       515  \n",
      "4518        1  1       515  \n",
      "4523        1  1       515  \n",
      "4535        1  1       515  \n",
      "4588        1  1       515  \n",
      "\n",
      "[235 rows x 10 columns]\n"
     ]
    }
   ],
   "source": [
    "# Фильтруем записи для RFM_score равного \"515\" или \"415\"\n",
    "specific_rfm_scores = rfm.query('RFM_score==\"515\" or RFM_score==\"415\"')\n",
    "\n",
    "# Выводим результаты для конкретных RFM_score\n",
    "print(f\"\\nЗаписи для RFM_score '515' или '415':\\n{specific_rfm_scores}\")\n",
    "\n"
   ]
  },
  {
   "cell_type": "markdown",
   "metadata": {},
   "source": [
    "Теперь разберем всю совокупность студентов на группы по показателям **R** и **M**. \n",
    "\n",
    "**Показатель R** характеризует дисциплину и ответственность студента.\n",
    "**Показатель M** отражает уровень усвоения материала.\n",
    "Выделим **семь групп** на основе рангов по этим показателям и присвоим им условные имена.\n",
    "\n",
    "Названия сегментов будут добавлены в таблицу, чтобы облегчить идентификацию каждой группы студентов.\n",
    "\n",
    "\n",
    "Создадим график, на котором будет видно распределение студентов по группам и средний балл за экзамен.\n",
    "График поможет визуализировать, как распределяются студенты по группам в зависимости от их показателей **R** и **M**.\n",
    "\n"
   ]
  },
  {
   "cell_type": "code",
   "execution_count": 46,
   "metadata": {},
   "outputs": [
    {
     "data": {
      "image/png": "[encoded data removed]",
      "text/plain": [
       "<Figure size 1500x1200 with 1 Axes>"
      ]
     },
     "metadata": {},
     "output_type": "display_data"
    }
   ],
   "source": [
    "# Создаем словарь для сегментов на основе значений R и M\n",
    "segt_map = {\n",
    "    r'[1-3][2-3]': 'запаздывающие',\n",
    "    r'[3-5][2-3]': 'дисциплинированные',\n",
    "    r'[1-3][3-5]': 'неорганизованные',\n",
    "    r'[3-5][3-4]': 'не хватило знаний',\n",
    "    r'[3-4][4-5]': 'не хватило дисциплины',\n",
    "    r'[4-5][4-5]': 'лидеры',\n",
    "    r'[1-5][1]': 'аутсайдеры'\n",
    "}\n",
    "\n",
    "# Добавляем сегменты к DataFrame\n",
    "rfm['Segment'] = rfm['R'].map(str) + rfm['M'].map(str)\n",
    "rfm['Segment'] = rfm['Segment'].replace(segt_map, regex=True)\n",
    "\n",
    "# Определяем координаты для каждого сегмента\n",
    "rfm_coordinates = {\n",
    "    \"аутсайдеры\": [0, 1, 0, 1],\n",
    "    \"запаздывающие\": [1, 3, 0, 0.6],\n",
    "    \"дисциплинированные\": [1, 3, 0.6, 1],\n",
    "    \"неорганизованные\": [3, 5, 0, 0.6],\n",
    "    \"не хватило знаний\": [3, 4, 0.6, 1],\n",
    "    \"не хватило дисциплины\": [4, 5, 0.6, 0.8],\n",
    "    \"лидеры\": [4, 5, 0.8, 1],\n",
    "}\n",
    "\n",
    "# Создаем фигуру для графика\n",
    "fig, ax = plt.subplots(figsize=(15, 12))\n",
    "\n",
    "# Настраиваем границы графика\n",
    "ax.set_xlim([0, 5])\n",
    "ax.set_ylim([0, 5])\n",
    "\n",
    "# Устанавливаем пастельные цвета для фона графика\n",
    "plt.rcParams[\"axes.facecolor\"] = \"white\"\n",
    "palette = [\"#D9D9D9\", \"#A8E6CF\", \"#FF8E8E\", \"#FFABAB\", \"#FFCCBC\", \n",
    "           \"#FFE5B4\", \"#D7B2FF\", \"#B2EBF2\", \"#FF9A8D\", \"#B39DDB\"]\n",
    "\n",
    "# Заполняем график сегментами\n",
    "for key, color in zip(rfm_coordinates.keys(), palette[:10]):\n",
    "    \n",
    "    coordinates = rfm_coordinates[key]\n",
    "    ymin, ymax, xmin, xmax = coordinates[0], coordinates[1], coordinates[2], coordinates[3]\n",
    "    \n",
    "    ax.axhspan(ymin=ymin, ymax=ymax, xmin=xmin, xmax=xmax, facecolor=color)\n",
    "    \n",
    "    # Подсчитываем количество пользователей и их средний балл\n",
    "    users = rfm[rfm.Segment == key].shape[0]\n",
    "    users_percentage = (users / rfm.shape[0]) * 100\n",
    "    avg_monetary = rfm[rfm.Segment == key][\"score\"].mean()\n",
    "    \n",
    "    # Формируем тексты для вывода\n",
    "    user_txt = f\"\\n\\nTotal students: {users} ({round(users_percentage, 2)}%)\"\n",
    "    monetary_txt = f\"\\n\\n\\n\\nAverage score: {round(avg_monetary, 2)}\"\n",
    "    \n",
    "    # Определяем координаты для текста\n",
    "    x = 5 * (xmin + xmax) / 2\n",
    "    y = (ymin + ymax) / 2\n",
    "    \n",
    "    # Выводим сегмент и текст с информацией о пользователях и среднем балле\n",
    "    plt.text(x=x, y=y, s=key, ha=\"center\", va=\"center\", fontsize=14, color=\"black\", fontweight=\"bold\")\n",
    "    plt.text(x=x, y=y, s=user_txt, ha=\"center\", va=\"center\", fontsize=12, color=\"black\")    \n",
    "    plt.text(x=x, y=y, s=monetary_txt, ha=\"center\", va=\"center\", fontsize=12, color=\"black\")    \n",
    "\n",
    "# Настраиваем метки осей\n",
    "ax.set_xlabel(\"R\")\n",
    "ax.set_ylabel(\"M\")\n",
    "\n",
    "# Убираем лишние линии\n",
    "sns.despine(left=True, bottom=True)\n",
    "\n",
    "# Показываем график\n",
    "plt.show()\n"
   ]
  },
  {
   "cell_type": "markdown",
   "metadata": {},
   "source": [
    "Теперь рассмотрим распределение показателей по оценкам среди студентов:\n",
    "\n",
    "**Распределение по оценке знаний**:\n",
    "Студенты распределились примерно равномерно по оценке знаний, что указывает на наличие разнообразия в уровне усвоения материала.\n",
    "\n",
    "**Показатель дисциплины (R)**:\n",
    "Четверть студентов сдают задания без опозданий, что говорит о наличии группы ответственных студентов, которые соблюдают сроки.\n",
    "\n",
    "**Показатель активности (F)**:\n",
    "Основную часть составляют студенты, обучавшиеся только на одном курсе.  \n",
    "Это может свидетельствовать о том, что большинство студентов предпочитают сосредотачиваться на одном предмете.\n",
    "\n"
   ]
  },
  {
   "cell_type": "code",
   "execution_count": 47,
   "metadata": {},
   "outputs": [
    {
     "data": {
      "image/png": "[encoded data removed]",
      "text/plain": [
       "<Figure size 1000x400 with 3 Axes>"
      ]
     },
     "metadata": {},
     "output_type": "display_data"
    }
   ],
   "source": [
    "# График распределения пользователей по группам R, M и F\n",
    "fig, axes = plt.subplots(nrows=1, ncols=3, figsize=(10, 4))\n",
    "\n",
    "# Определяем параметры для отображения\n",
    "for i, p in enumerate(['R', 'M', 'F']):\n",
    "    parameters = {'R': 'Discipline', 'M': 'Knowledge', 'F': 'Activity'}\n",
    "    y = rfm[p].value_counts().sort_index()\n",
    "    x = y.index\n",
    "    ax = axes[i]\n",
    "    bars = ax.bar(x, y, color='#85e4ff')  \n",
    "    ax.set_frame_on(False)\n",
    "    ax.tick_params(left=False, labelleft=False, bottom=False)\n",
    "    ax.set_title('Distribution of {}'.format(parameters[p]), fontsize=14)\n",
    "    \n",
    "    # Добавляем значения на столбцы\n",
    "    for bar in bars:\n",
    "        value = bar.get_height()\n",
    "        if value == y.max():\n",
    "            bar.set_color('#f19cbb')  # Цвет для максимального значения\n",
    "        ax.text(bar.get_x() + bar.get_width() / 2,\n",
    "                value - 2,\n",
    "                '{}\\n({}%)'.format(int(value), int(value * 100 / y.sum())),\n",
    "                ha='center',\n",
    "                va='top',\n",
    "                color='black')  # Цвет текста\n",
    "\n",
    "plt.tight_layout()\n",
    "plt.show()\n"
   ]
  },
  {
   "cell_type": "code",
   "execution_count": 48,
   "metadata": {},
   "outputs": [
    {
     "data": {
      "image/png": "[encoded data removed]",
      "text/plain": [
       "<Figure size 1000x1000 with 25 Axes>"
      ]
     },
     "metadata": {},
     "output_type": "display_data"
    }
   ],
   "source": [
    "# График распределения по группам F для каждой комбинации R и M\n",
    "fig, axes = plt.subplots(nrows=5, ncols=5,\n",
    "                         sharex=False, sharey=True,\n",
    "                         figsize=(10, 10))\n",
    "\n",
    "r_range = range(1, 6)\n",
    "m_range = range(1, 6)\n",
    "\n",
    "for r in r_range:\n",
    "    for m in m_range:\n",
    "        y = rfm[(rfm['R'] == r) & (rfm['M'] == m)]['F'].value_counts().sort_index()\n",
    "        x = y.index\n",
    "        ax = axes[r - 1, m - 1]\n",
    "        bars = ax.bar(x, y, color='#85e4ff')  \n",
    "        \n",
    "        if r == 5:\n",
    "            ax.set_xlabel('{}\\nM'.format(m), va='top')\n",
    "        if m == 1:\n",
    "            ax.set_ylabel('R\\n{}'.format(r), rotation=0, labelpad=30)\n",
    "\n",
    "        ax.set_frame_on(False)\n",
    "        ax.tick_params(left=False, labelleft=False, bottom=False)\n",
    "        ax.set_xticks(x)\n",
    "        ax.set_xticklabels(x, fontsize=8)\n",
    "\n",
    "        # Добавляем значения на столбцы\n",
    "        for bar in bars:\n",
    "            value = bar.get_height()\n",
    "            if value == y.max():\n",
    "                bar.set_color('#f19cbb')  # Цвет для максимального значения\n",
    "            ax.text(bar.get_x() + bar.get_width() / 2,\n",
    "                    value,\n",
    "                    int(value),\n",
    "                    ha='center',\n",
    "                    va='bottom',\n",
    "                    color='black')  # Цвет текста\n",
    "\n",
    "fig.suptitle('Distribution of F for each M and R', fontsize=14)\n",
    "plt.tight_layout()\n",
    "plt.show()\n"
   ]
  },
  {
   "cell_type": "markdown",
   "metadata": {},
   "source": [
    "В проекте проделана следующая работа:\n",
    "\n",
    "* Выполнены задачи, поставленные менеджером Василием и посчитаны необходимые ему показатели.\n",
    "\n",
    "* Проведен RFM-анализ, который делит студентов на группы и сформирован список \"лидеров\"(по предметам ССС и DDD), которых можно рекомендовать работодателям."
   ]
  },
  {
   "cell_type": "markdown",
   "metadata": {},
   "source": [
    "\n",
    "\n",
    "\n",
    "По итогам проекта можно выделить несколько ключевых рекомендаций:\n",
    "\n",
    "- Рекомендуется улучшить процесс сбора данных, поскольку часть информации (например, оценки за экзамены) не была включена в таблицы, а некоторые ячейки остались пустыми. \n",
    "\n",
    "- Выявлено, что основной причиной незавершения курса является отмена регистрации, а не несдача экзамена или трудности в обучении. В среднем уровень оттока составляет 30%. "
   ]
  }
 ],
 "metadata": {
  "kernelspec": {
   "display_name": "Python 3",
   "language": "python",
   "name": "python3"
  },
  "language_info": {
   "codemirror_mode": {
    "name": "ipython",
    "version": 3
   },
   "file_extension": ".py",
   "mimetype": "text/x-python",
   "name": "python",
   "nbconvert_exporter": "python",
   "pygments_lexer": "ipython3",
   "version": "3.11.9"
  }
 },
 "nbformat": 4,
 "nbformat_minor": 4
}
